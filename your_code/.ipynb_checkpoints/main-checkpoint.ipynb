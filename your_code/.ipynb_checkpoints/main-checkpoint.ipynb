{
 "cells": [
  {
   "cell_type": "markdown",
   "metadata": {},
   "source": [
    "# Advanced Querying Mongo"
   ]
  },
  {
   "cell_type": "markdown",
   "metadata": {},
   "source": [
    "Importing libraries and setting up connection"
   ]
  },
  {
   "cell_type": "code",
   "execution_count": 1,
   "metadata": {},
   "outputs": [
    {
     "name": "stdout",
     "output_type": "stream",
     "text": [
      "Requirement already satisfied: pymongo in c:\\users\\alvaro\\anaconda3\\lib\\site-packages (4.3.3)\n",
      "Requirement already satisfied: dnspython<3.0.0,>=1.16.0 in c:\\users\\alvaro\\anaconda3\\lib\\site-packages (from pymongo) (2.3.0)\n",
      "Note: you may need to restart the kernel to use updated packages.\n"
     ]
    }
   ],
   "source": [
    "%pip install pymongo"
   ]
  },
  {
   "cell_type": "code",
   "execution_count": 6,
   "metadata": {},
   "outputs": [],
   "source": [
    "from pymongo import MongoClient\n",
    "client = MongoClient('mongodb://localhost:27017')\n",
    "\n",
    "cn = (client.companies).companies"
   ]
  },
  {
   "cell_type": "markdown",
   "metadata": {},
   "source": [
    "### 1. All the companies whose name match 'Babelgum'. Retrieve only their `name` field."
   ]
  },
  {
   "cell_type": "code",
   "execution_count": 10,
   "metadata": {},
   "outputs": [
    {
     "data": {
      "text/plain": [
       "[{'_id': ObjectId('52cdef7c4bab8bd675297da0'),\n",
       "  'name': 'Babelgum',\n",
       "  'permalink': 'babelgum',\n",
       "  'crunchbase_url': 'http://www.crunchbase.com/company/babelgum',\n",
       "  'homepage_url': 'http://babelgum.com',\n",
       "  'blog_url': 'http://babelgum.com/blog',\n",
       "  'blog_feed_url': 'http://feeds.feedburner.com/Babelgum',\n",
       "  'twitter_username': 'Babelgum',\n",
       "  'category_code': 'games_video',\n",
       "  'number_of_employees': None,\n",
       "  'founded_year': 2007,\n",
       "  'founded_month': 3,\n",
       "  'founded_day': 1,\n",
       "  'deadpooled_year': 2013,\n",
       "  'deadpooled_month': 1,\n",
       "  'deadpooled_day': 9,\n",
       "  'deadpooled_url': '',\n",
       "  'tag_list': 'iptv, web2ireland',\n",
       "  'alias_list': '',\n",
       "  'email_address': 'info@babelgum.com',\n",
       "  'phone_number': '',\n",
       "  'description': '',\n",
       "  'created_at': 'Sat Jun 09 08:15:21 UTC 2007',\n",
       "  'updated_at': 'Wed Oct 16 06:30:25 UTC 2013',\n",
       "  'overview': '<p>Babelgum is an integrated web and mobile video content platform, free for users and supported by advertising, available on-demand to a global audience.</p>\\n\\n<p>On March 20th 2009 Babelgum released a U.S. version of its mobile video application for iPhone and iPod Touch (previously available in Italy and the UK) and simultaneously launched a redesigned website (www.babelgum.com) with a Flash-based player, offering one of the first fully integrated video mobile and web user experiences.</p>\\n\\n<p>Babelgum Mobile is currently available in the United States, UK, Italy, Germany, France and Spain and over 50 other countries across the globe on iPhone 3G, iPod Touch, Google Android G-Phones 1 and 2, Nokia (N96, N95 and 6210) via 3G and WiFi.</p>\\n\\n<p>Babelgum is an independent and privately held company with offices in the United States, UK, Ireland, France and Italy.</p>\\n\\n<p>TRAFFIC FIGURES</p>\\n\\n<p>In July 2009 Babelgum recorded on its website over 2 million monthly unique users worldwide â€“ 1.7 million in the US alone (Source: comScore). Over 2 million people have downloaded the Babelgum mobile applications and watched videos on them.</p>\\n\\n<p>DEVELOPMENT STRATEGY</p>\\n\\n<p>In Europe, Babelgum made a strategic agreement with Vodafone to launch a mobile service that allows users to watch videos for free also over 3G networks (Vodafone supports marketing campaigns through SMS and other PR activities targeting their Customer Base). Babelgum is also seeking selected strategic partnerships in the United States.</p>\\n\\n<p>BABELGUMâ€™S EDITORIAL APPROACH TO CONTENT</p>\\n\\n<p>Positioned between user generated video hubs and network TV-oriented destinations, Babelgum has a unique editorial approach which focuses on the third part of the ecosystem: innovative, professionally produced content on very specific passions curated by experts in their fields. </p>\\n\\n<p>The editorial team is driven by professional publishers who scout and select programming for the following channels: Music, Comedy, Film, Our Earth (dedicated to nature and the environment) and Metropolis (all about urban culture and trends). </p>\\n\\n<p>The mobile and web platforms are integrated functionally and graphically and complement each other, although mobile programming is more carefully tailored to local markets, based on research into national tastes and viewing habits. </p>\\n\\n<p>Babelgumâ€™s content comprises independent and mainstream programming as well as exclusive original productions.</p>\\n\\n<p>LIST OF MAIN CONTENT PROVIDERS:</p>\\n\\n<p>Babelgumâ€™s content partners include, among others, EMI, Sony BMG, the New York Times, PBS, BBC, VBS, Lonely Planet, Coolhunting, National Geographic, Funny or Die, T5M, Shine Limited, Cinetic Rights Management, Content Republic, Gong Anime, The Workbook Project, Cinelan, Power to the Pixel and Off the Fence as well as the Seattle, Encounters, Los Angeles, and Hamptons film festivals.</p>\\n\\n<p>ONLINE VIDEO COMPETITIONS:</p>\\n\\n<p>The company has also set up a series of online contests to nurture independent film, music and art talent: the Babelgum Online Film Festival, the Babelgum Music Video Awards and the Babelgum Metropolis Art Prize chaired respectively by Spike Lee, Michel Gondry and Isabella Rossellini.</p>',\n",
       "  'image': {'available_sizes': [[[135, 102],\n",
       "     'assets/images/resized/0006/7738/67738v2-max-150x150.png'],\n",
       "    [[135, 102], 'assets/images/resized/0006/7738/67738v2-max-250x250.png'],\n",
       "    [[135, 102], 'assets/images/resized/0006/7738/67738v2-max-450x450.png']],\n",
       "   'attribution': None},\n",
       "  'products': [{'name': 'Babelgum', 'permalink': 'babelgum'}],\n",
       "  'relationships': [{'is_past': False,\n",
       "    'title': 'CEO',\n",
       "    'person': {'first_name': 'Valerio',\n",
       "     'last_name': 'Zingarelli',\n",
       "     'permalink': 'valerio-zingarelli'}},\n",
       "   {'is_past': True,\n",
       "    'title': 'CTO',\n",
       "    'person': {'first_name': 'Mallku',\n",
       "     'last_name': 'Caballero',\n",
       "     'permalink': 'mallku-caballero'}},\n",
       "   {'is_past': True,\n",
       "    'title': '',\n",
       "    'person': {'first_name': 'Michael',\n",
       "     'last_name': \"O'Callaghan\",\n",
       "     'permalink': 'michael-o-callaghan'}},\n",
       "   {'is_past': True,\n",
       "    'title': '',\n",
       "    'person': {'first_name': 'Erik',\n",
       "     'last_name': 'Lumer',\n",
       "     'permalink': 'erik-lumer'}},\n",
       "   {'is_past': True,\n",
       "    'title': 'Engineering Director',\n",
       "    'person': {'first_name': 'Mark',\n",
       "     'last_name': 'Kearns',\n",
       "     'permalink': 'mark-kearns'}}],\n",
       "  'competitions': [{'competitor': {'name': 'Joost', 'permalink': 'joost'}},\n",
       "   {'competitor': {'name': 'Zattoo', 'permalink': 'zattoo'}},\n",
       "   {'competitor': {'name': 'Veoh', 'permalink': 'veoh'}},\n",
       "   {'competitor': {'name': 'Vudu', 'permalink': 'vudu'}},\n",
       "   {'competitor': {'name': 'Inuk Networks', 'permalink': 'inuk-networks'}},\n",
       "   {'competitor': {'name': 'Participatory Culture Foundation',\n",
       "     'permalink': 'participatory-culture-foundation'}},\n",
       "   {'competitor': {'name': 'Next New Networks',\n",
       "     'permalink': 'next-new-networks'}}],\n",
       "  'providerships': [],\n",
       "  'total_money_raised': '$13.2M',\n",
       "  'funding_rounds': [{'id': 17,\n",
       "    'round_code': 'a',\n",
       "    'source_url': 'http://www.redherring.com/Article.aspx?a=21800&hed=Battle+of+the+Billionaires&sector=Regions&subsector=Europe',\n",
       "    'source_description': '',\n",
       "    'raised_amount': 13200000,\n",
       "    'raised_currency_code': 'USD',\n",
       "    'funded_year': 2005,\n",
       "    'funded_month': 6,\n",
       "    'funded_day': 1,\n",
       "    'investments': [{'company': None,\n",
       "      'financial_org': None,\n",
       "      'person': {'first_name': 'Silvio',\n",
       "       'last_name': 'Scaglia',\n",
       "       'permalink': 'silvio-scaglia'}}]}],\n",
       "  'investments': [],\n",
       "  'acquisition': None,\n",
       "  'acquisitions': [],\n",
       "  'offices': [{'description': '',\n",
       "    'address1': '',\n",
       "    'address2': '',\n",
       "    'zip_code': '',\n",
       "    'city': 'London',\n",
       "    'state_code': None,\n",
       "    'country_code': 'GBR',\n",
       "    'latitude': 53.344104,\n",
       "    'longitude': -6.267494}],\n",
       "  'milestones': [],\n",
       "  'ipo': None,\n",
       "  'video_embeds': [],\n",
       "  'screenshots': [],\n",
       "  'external_links': [],\n",
       "  'partners': []}]"
      ]
     },
     "execution_count": 10,
     "metadata": {},
     "output_type": "execute_result"
    }
   ],
   "source": [
    "query={'name':'Babelgum'}\n",
    "\n",
    "list(cn.find(query).limit(10))\n",
    "\n"
   ]
  },
  {
   "cell_type": "markdown",
   "metadata": {},
   "source": [
    "### 2. All the companies that have more than 5000 employees. Limit the search to 20 companies and sort them by **number of employees**."
   ]
  },
  {
   "cell_type": "code",
   "execution_count": 23,
   "metadata": {
    "scrolled": true
   },
   "outputs": [
    {
     "data": {
      "text/plain": [
       "[{'name': 'Siemens'},\n",
       " {'name': 'IBM'},\n",
       " {'name': 'Toyota'},\n",
       " {'name': 'PayPal'},\n",
       " {'name': 'Nippon Telegraph and Telephone Corporation'},\n",
       " {'name': 'Samsung Electronics'},\n",
       " {'name': 'Accenture'},\n",
       " {'name': 'Tata Consultancy Services'},\n",
       " {'name': 'Flextronics International'},\n",
       " {'name': 'Safeway'},\n",
       " {'name': 'Sony'},\n",
       " {'name': 'LG'},\n",
       " {'name': 'Ford'},\n",
       " {'name': 'Boeing'},\n",
       " {'name': 'Digital Equipment Corporation'},\n",
       " {'name': 'Nokia'},\n",
       " {'name': 'MItsubishi Electric'},\n",
       " {'name': 'MItsubishi Electric'},\n",
       " {'name': 'Comcast'},\n",
       " {'name': 'Bertelsmann'}]"
      ]
     },
     "execution_count": 23,
     "metadata": {},
     "output_type": "execute_result"
    }
   ],
   "source": [
    "query={'number_of_employees': {'$gt': 5000}}\n",
    "filtro={'name': True, '_id': False}\n",
    "\n",
    "list(cn.find(query,filtro).sort('number_of_employees', -1).limit(20))   # sort 1 asc, sort -1 desc\n"
   ]
  },
  {
   "cell_type": "code",
   "execution_count": null,
   "metadata": {},
   "outputs": [],
   "source": [
    "query={'edad': {'$ne': 38}}\n",
    "\n",
    "list(colec.find(query).sort('edad', -1).limit(3)) "
   ]
  },
  {
   "cell_type": "markdown",
   "metadata": {},
   "source": [
    "### 3. All the companies founded between 2000 and 2005, both years included. Retrieve only the `name` and `founded_year` fields."
   ]
  },
  {
   "cell_type": "code",
   "execution_count": 24,
   "metadata": {},
   "outputs": [
    {
     "data": {
      "text/plain": [
       "[{'name': 'Digg', 'founded_year': 2004},\n",
       " {'name': 'Facebook', 'founded_year': 2004},\n",
       " {'name': 'StumbleUpon', 'founded_year': 2002},\n",
       " {'name': 'Gizmoz', 'founded_year': 2003},\n",
       " {'name': 'Plaxo', 'founded_year': 2002},\n",
       " {'name': 'Technorati', 'founded_year': 2002},\n",
       " {'name': 'AddThis', 'founded_year': 2004},\n",
       " {'name': 'Veoh', 'founded_year': 2004},\n",
       " {'name': 'Meetup', 'founded_year': 2002},\n",
       " {'name': 'SmugMug', 'founded_year': 2002},\n",
       " {'name': 'Skype', 'founded_year': 2003},\n",
       " {'name': 'Pando Networks', 'founded_year': 2004},\n",
       " {'name': 'Ikan', 'founded_year': 2003},\n",
       " {'name': 'delicious', 'founded_year': 2003},\n",
       " {'name': 'Topix', 'founded_year': 2002},\n",
       " {'name': 'Jobster', 'founded_year': 2004},\n",
       " {'name': 'AllPeers', 'founded_year': 2004},\n",
       " {'name': 'iContact', 'founded_year': 2003},\n",
       " {'name': 'blinkx', 'founded_year': 2004},\n",
       " {'name': 'Yelp', 'founded_year': 2004}]"
      ]
     },
     "execution_count": 24,
     "metadata": {},
     "output_type": "execute_result"
    }
   ],
   "source": [
    "query={'$and': [{'founded_year': {'$gt': 2000}},\n",
    "               {'founded_year': {'$lt': 2005}}]}\n",
    "                \n",
    "                \n",
    "seleccion={'name': True, 'founded_year': True, '_id': False}\n",
    "\n",
    "list(cn.find(query, seleccion).limit(20)) "
   ]
  },
  {
   "cell_type": "markdown",
   "metadata": {},
   "source": [
    "### 4. All the companies that had a Valuation Amount of more than 100.000.000 and have been founded before 2010. Retrieve only the `name` and `ipo` fields."
   ]
  },
  {
   "cell_type": "code",
   "execution_count": 26,
   "metadata": {},
   "outputs": [
    {
     "data": {
      "text/plain": [
       "[{'name': 'Facebook', 'ipo': {'valuation_amount': 104000000000}},\n",
       " {'name': 'Twitter', 'ipo': {'valuation_amount': 18100000000}},\n",
       " {'name': 'Yelp', 'ipo': {'valuation_amount': 1300000000}},\n",
       " {'name': 'LinkedIn', 'ipo': {'valuation_amount': 9310000000}},\n",
       " {'name': 'Amazon', 'ipo': {'valuation_amount': 100000000000}},\n",
       " {'name': 'Brightcove', 'ipo': {'valuation_amount': 290000000}},\n",
       " {'name': 'KIT digital', 'ipo': {'valuation_amount': 235000000}},\n",
       " {'name': 'Nielsen', 'ipo': {'valuation_amount': 1600000000}},\n",
       " {'name': 'OpenTable', 'ipo': {'valuation_amount': 1050000000}},\n",
       " {'name': 'ChannelAdvisor', 'ipo': {'valuation_amount': 287000000}},\n",
       " {'name': 'Jive Software', 'ipo': {'valuation_amount': 1000000000}},\n",
       " {'name': 'Zillow', 'ipo': {'valuation_amount': 2550000000}},\n",
       " {'name': 'Wix', 'ipo': {'valuation_amount': 750000000}},\n",
       " {'name': 'Shutterfly', 'ipo': {'valuation_amount': 350000000}},\n",
       " {'name': 'TripAdvisor', 'ipo': {'valuation_amount': 3273770000}},\n",
       " {'name': 'Salesforce', 'ipo': {'valuation_amount': 110000000}},\n",
       " {'name': 'HomeAway', 'ipo': {'valuation_amount': 3000000000}},\n",
       " {'name': 'QuinStreet', 'ipo': {'valuation_amount': 140000000}},\n",
       " {'name': 'Rackspace', 'ipo': {'valuation_amount': 5440000000}},\n",
       " {'name': 'BMC Software', 'ipo': {'valuation_amount': 6000000000}}]"
      ]
     },
     "execution_count": 26,
     "metadata": {},
     "output_type": "execute_result"
    }
   ],
   "source": [
    "query={'$and': [{'ipo.valuation_amount': {'$gt': 100000000}},\n",
    "               {'founded_year': {'$lt': 2010}}]}\n",
    "                \n",
    "                \n",
    "seleccion={'name': True, 'ipo.valuation_amount': True, '_id': False}\n",
    "\n",
    "list(cn.find(query, seleccion).limit(20)) "
   ]
  },
  {
   "cell_type": "markdown",
   "metadata": {},
   "source": [
    "### 5. All the companies that have less than 1000 employees and have been founded before 2005. Order them by the number of employees and limit the search to 10 companies."
   ]
  },
  {
   "cell_type": "code",
   "execution_count": 27,
   "metadata": {},
   "outputs": [
    {
     "data": {
      "text/plain": [
       "[{'name': 'Geni', 'number_of_employees': 18},\n",
       " {'name': 'Scribd', 'number_of_employees': 50},\n",
       " {'name': 'MeetMoi', 'number_of_employees': 15},\n",
       " {'name': 'Joost', 'number_of_employees': 0},\n",
       " {'name': 'Powerset', 'number_of_employees': 60},\n",
       " {'name': 'OpenX', 'number_of_employees': 305},\n",
       " {'name': 'Mahalo', 'number_of_employees': 40},\n",
       " {'name': 'Kyte', 'number_of_employees': 40},\n",
       " {'name': 'Stickam', 'number_of_employees': 35},\n",
       " {'name': 'Livestream', 'number_of_employees': 120}]"
      ]
     },
     "execution_count": 27,
     "metadata": {},
     "output_type": "execute_result"
    }
   ],
   "source": [
    "query={'$and': [{'founded_year': {'$gt': 2005}},\n",
    "               {'number_of_employees': {'$lt': 1000}}]}\n",
    "                \n",
    "                \n",
    "seleccion={'name': True, 'number_of_employees': True, '_id': False}\n",
    "\n",
    "list(cn.find(query, seleccion).limit(10)) "
   ]
  },
  {
   "cell_type": "markdown",
   "metadata": {},
   "source": [
    "### 6. All the companies that don't include the `partners` field."
   ]
  },
  {
   "cell_type": "code",
   "execution_count": 34,
   "metadata": {},
   "outputs": [
    {
     "data": {
      "text/plain": [
       "[{'name': 'Wetpaint', 'partners': []},\n",
       " {'name': 'AdventNet', 'partners': []},\n",
       " {'name': 'Zoho', 'partners': []},\n",
       " {'name': 'Digg', 'partners': []},\n",
       " {'name': 'Facebook', 'partners': []},\n",
       " {'name': 'Omnidrive', 'partners': []},\n",
       " {'name': 'Postini', 'partners': []},\n",
       " {'name': 'Geni', 'partners': []},\n",
       " {'name': 'Flektor', 'partners': []},\n",
       " {'name': 'Fox Interactive Media', 'partners': []}]"
      ]
     },
     "execution_count": 34,
     "metadata": {},
     "output_type": "execute_result"
    }
   ],
   "source": [
    "query={'partners': {'$exists': 'false'}}\n",
    "                \n",
    "                \n",
    "seleccion={'name': True, 'partners': True, '_id': False}\n",
    "\n",
    "list(cn.find(query, seleccion).limit(10)) "
   ]
  },
  {
   "cell_type": "markdown",
   "metadata": {},
   "source": [
    "### 7. All the companies that have a null type of value on the `category_code` field."
   ]
  },
  {
   "cell_type": "code",
   "execution_count": 38,
   "metadata": {},
   "outputs": [
    {
     "data": {
      "text/plain": [
       "[{'name': 'Collective', 'category_code': None},\n",
       " {'name': 'Snimmer', 'category_code': None},\n",
       " {'name': 'KoolIM', 'category_code': None},\n",
       " {'name': 'Level9 Media', 'category_code': None},\n",
       " {'name': 'VidKing', 'category_code': None},\n",
       " {'name': 'Drigg', 'category_code': None},\n",
       " {'name': 'SpaceTime', 'category_code': None},\n",
       " {'name': 'Touch Clarity', 'category_code': None},\n",
       " {'name': 'MMDAYS', 'category_code': None},\n",
       " {'name': 'Inside Group', 'category_code': None}]"
      ]
     },
     "execution_count": 38,
     "metadata": {},
     "output_type": "execute_result"
    }
   ],
   "source": [
    "query={'category_code': None}\n",
    "                \n",
    "                \n",
    "seleccion={'name': True, 'category_code': True, '_id': False}\n",
    "\n",
    "list(cn.find(query, seleccion).limit(10)) "
   ]
  },
  {
   "cell_type": "markdown",
   "metadata": {},
   "source": [
    "### 8. All the companies that have at least 100 employees but less than 1000. Retrieve only the `name` and `number of employees` fields."
   ]
  },
  {
   "cell_type": "code",
   "execution_count": 39,
   "metadata": {},
   "outputs": [
    {
     "data": {
      "text/plain": [
       "[{'name': 'AdventNet', 'number_of_employees': 600},\n",
       " {'name': 'AddThis', 'number_of_employees': 120},\n",
       " {'name': 'OpenX', 'number_of_employees': 305},\n",
       " {'name': 'LifeLock', 'number_of_employees': 644},\n",
       " {'name': 'Jajah', 'number_of_employees': 110},\n",
       " {'name': 'Livestream', 'number_of_employees': 120},\n",
       " {'name': 'Ustream', 'number_of_employees': 250},\n",
       " {'name': 'iContact', 'number_of_employees': 300},\n",
       " {'name': 'Yelp', 'number_of_employees': 800},\n",
       " {'name': 'Dailymotion', 'number_of_employees': 120}]"
      ]
     },
     "execution_count": 39,
     "metadata": {},
     "output_type": "execute_result"
    }
   ],
   "source": [
    "query={'$and': [{'number_of_employees': {'$gte': 100}},\n",
    "               {'number_of_employees': {'$lt': 1000}}]}\n",
    "                \n",
    "                \n",
    "seleccion={'name': True, 'number_of_employees': True, '_id': False}\n",
    "\n",
    "list(cn.find(query, seleccion).limit(10)) "
   ]
  },
  {
   "cell_type": "markdown",
   "metadata": {},
   "source": [
    "### 9. Order all the companies by their IPO price in a descending order."
   ]
  },
  {
   "cell_type": "code",
   "execution_count": 47,
   "metadata": {},
   "outputs": [
    {
     "data": {
      "text/plain": [
       "[{'name': 'GREE', 'ipo': {'valuation_amount': 108960000000}},\n",
       " {'name': 'Facebook', 'ipo': {'valuation_amount': 104000000000}},\n",
       " {'name': 'Amazon', 'ipo': {'valuation_amount': 100000000000}},\n",
       " {'name': 'Twitter', 'ipo': {'valuation_amount': 18100000000}},\n",
       " {'name': 'Groupon', 'ipo': {'valuation_amount': 12800000000}},\n",
       " {'name': 'Tencent', 'ipo': {'valuation_amount': 11000000000}},\n",
       " {'name': 'Western Digital', 'ipo': {'valuation_amount': 9430000000}},\n",
       " {'name': 'LinkedIn', 'ipo': {'valuation_amount': 9310000000}},\n",
       " {'name': 'BMC Software', 'ipo': {'valuation_amount': 6000000000}},\n",
       " {'name': 'Rackspace', 'ipo': {'valuation_amount': 5440000000}},\n",
       " {'name': 'Baidu', 'ipo': {'valuation_amount': 4000000000}},\n",
       " {'name': 'TripAdvisor', 'ipo': {'valuation_amount': 3273770000}},\n",
       " {'name': 'HomeAway', 'ipo': {'valuation_amount': 3000000000}},\n",
       " {'name': 'Zillow', 'ipo': {'valuation_amount': 2550000000}},\n",
       " {'name': 'Nielsen', 'ipo': {'valuation_amount': 1600000000}},\n",
       " {'name': 'Yelp', 'ipo': {'valuation_amount': 1300000000}},\n",
       " {'name': 'Chegg', 'ipo': {'valuation_amount': 1100000000}},\n",
       " {'name': 'Chegg', 'ipo': {'valuation_amount': 1100000000}},\n",
       " {'name': 'RPX Corporation', 'ipo': {'valuation_amount': 1096000000}},\n",
       " {'name': 'Higher One', 'ipo': {'valuation_amount': 1060000000}}]"
      ]
     },
     "execution_count": 47,
     "metadata": {},
     "output_type": "execute_result"
    }
   ],
   "source": [
    "query={'ipo.valuation_amount': {'$exists': True}}\n",
    "filtro={'name': True,'ipo.valuation_amount': True, '_id': False}\n",
    "\n",
    "list(cn.find(query,filtro).sort('ipo.valuation_amount', -1).limit(20))   # sort 1 asc, sort -1 desc"
   ]
  },
  {
   "cell_type": "markdown",
   "metadata": {},
   "source": [
    "### 10. Retrieve the 10 companies with more employees, order by the `number of employees`"
   ]
  },
  {
   "cell_type": "code",
   "execution_count": 48,
   "metadata": {},
   "outputs": [
    {
     "data": {
      "text/plain": [
       "[{'name': 'Siemens', 'number_of_employees': 405000},\n",
       " {'name': 'IBM', 'number_of_employees': 388000},\n",
       " {'name': 'Toyota', 'number_of_employees': 320000},\n",
       " {'name': 'PayPal', 'number_of_employees': 300000},\n",
       " {'name': 'Nippon Telegraph and Telephone Corporation',\n",
       "  'number_of_employees': 227000},\n",
       " {'name': 'Samsung Electronics', 'number_of_employees': 221726},\n",
       " {'name': 'Accenture', 'number_of_employees': 205000},\n",
       " {'name': 'Tata Consultancy Services', 'number_of_employees': 200300},\n",
       " {'name': 'Flextronics International', 'number_of_employees': 200000},\n",
       " {'name': 'Safeway', 'number_of_employees': 186000}]"
      ]
     },
     "execution_count": 48,
     "metadata": {},
     "output_type": "execute_result"
    }
   ],
   "source": [
    "query={'number_of_employees': {'$exists': True}}\n",
    "filtro={'name': True,'number_of_employees': True, '_id': False}\n",
    "\n",
    "list(cn.find(query,filtro).sort('number_of_employees', -1).limit(10))   # sort 1 asc, sort -1 desc"
   ]
  },
  {
   "cell_type": "markdown",
   "metadata": {},
   "source": [
    "### 11. All the companies founded on the second semester of the year. Limit your search to 1000 companies."
   ]
  },
  {
   "cell_type": "code",
   "execution_count": 50,
   "metadata": {},
   "outputs": [
    {
     "data": {
      "text/plain": [
       "[{'name': 'Wetpaint', 'founded_month': 10},\n",
       " {'name': 'Zoho', 'founded_month': 9},\n",
       " {'name': 'Digg', 'founded_month': 10},\n",
       " {'name': 'Omnidrive', 'founded_month': 11},\n",
       " {'name': 'Postini', 'founded_month': 6},\n",
       " {'name': 'Geni', 'founded_month': 6},\n",
       " {'name': 'Fox Interactive Media', 'founded_month': 6},\n",
       " {'name': 'eBay', 'founded_month': 9},\n",
       " {'name': 'Joost', 'founded_month': 10},\n",
       " {'name': 'Plaxo', 'founded_month': 11}]"
      ]
     },
     "execution_count": 50,
     "metadata": {},
     "output_type": "execute_result"
    }
   ],
   "source": [
    "query={'founded_month': {'$gte': 6}}\n",
    "            \n",
    "               \n",
    "                \n",
    "seleccion={'name': True, 'founded_month': True, '_id': False}\n",
    "\n",
    "list(cn.find(query, seleccion).limit(10)) "
   ]
  },
  {
   "cell_type": "markdown",
   "metadata": {},
   "source": [
    "### 12. All the companies founded before 2000 that have an acquisition amount of more than 10.000.00"
   ]
  },
  {
   "cell_type": "code",
   "execution_count": 59,
   "metadata": {},
   "outputs": [
    {
     "data": {
      "text/plain": [
       "[{'name': 'Alibaba',\n",
       "  'founded_year': 1999,\n",
       "  'acquisition': {'price_amount': 1000000000}},\n",
       " {'name': 'Snapfish',\n",
       "  'founded_year': 1999,\n",
       "  'acquisition': {'price_amount': 300000000}},\n",
       " {'name': 'MIVA',\n",
       "  'founded_year': 1999,\n",
       "  'acquisition': {'price_amount': 11600000}},\n",
       " {'name': 'Zappos',\n",
       "  'founded_year': 1999,\n",
       "  'acquisition': {'price_amount': 1200000000}},\n",
       " {'name': 'Neopets',\n",
       "  'founded_year': 1999,\n",
       "  'acquisition': {'price_amount': 160000000}},\n",
       " {'name': 'Postini',\n",
       "  'founded_year': 1999,\n",
       "  'acquisition': {'price_amount': 625000000}},\n",
       " {'name': 'Kaboose',\n",
       "  'founded_year': 1999,\n",
       "  'acquisition': {'price_amount': 18400000}},\n",
       " {'name': 'PriceGrabber',\n",
       "  'founded_year': 1999,\n",
       "  'acquisition': {'price_amount': 485000000}},\n",
       " {'name': 'SideStep',\n",
       "  'founded_year': 1999,\n",
       "  'acquisition': {'price_amount': 180000000}},\n",
       " {'name': 'Recipezaar',\n",
       "  'founded_year': 1999,\n",
       "  'acquisition': {'price_amount': 25000000}}]"
      ]
     },
     "execution_count": 59,
     "metadata": {},
     "output_type": "execute_result"
    }
   ],
   "source": [
    "query={'$and': [{'founded_year': {'$lt': 2000}},{'acquisition.price_amount': {'$gt': 10000000}}]}\n",
    "filtro={'name': True,'founded_year': True,'acquisition.price_amount':True, '_id': False}\n",
    "\n",
    "list(cn.find(query,filtro).sort('founded_year', -1).limit(10)) "
   ]
  },
  {
   "cell_type": "markdown",
   "metadata": {},
   "source": [
    "### 13. All the companies that have been acquired after 2010, order by the acquisition amount, and retrieve only their `name` and `acquisition` field."
   ]
  },
  {
   "cell_type": "code",
   "execution_count": 63,
   "metadata": {},
   "outputs": [
    {
     "data": {
      "text/plain": [
       "[{'name': 'T-Mobile', 'acquisition': {'acquired_year': 2011}},\n",
       " {'name': 'Goodrich Corporation', 'acquisition': {'acquired_year': 2011}},\n",
       " {'name': 'LSI', 'acquisition': {'acquired_year': 2013}},\n",
       " {'name': 'National Semiconductor', 'acquisition': {'acquired_year': 2011}},\n",
       " {'name': 'Ariba', 'acquisition': {'acquired_year': 2012}},\n",
       " {'name': 'NetLogic Microsystems', 'acquisition': {'acquired_year': 2011}},\n",
       " {'name': 'SuccessFactors', 'acquisition': {'acquired_year': 2012}},\n",
       " {'name': 'Qualcomm Atheros', 'acquisition': {'acquired_year': 2011}},\n",
       " {'name': 'Global Crossing', 'acquisition': {'acquired_year': 2011}},\n",
       " {'name': 'Global Crossing', 'acquisition': {'acquired_year': 2011}}]"
      ]
     },
     "execution_count": 63,
     "metadata": {},
     "output_type": "execute_result"
    }
   ],
   "source": [
    "query= {'acquisition.acquired_year': {'$gt': 2010}}\n",
    "filtro={'name': True,'acquisition.acquired_year':True, '_id': False}\n",
    "\n",
    "list(cn.find(query,filtro).sort('acquisition.price_amount', -1).limit(10)) "
   ]
  },
  {
   "cell_type": "markdown",
   "metadata": {},
   "source": [
    "### 14. Order the companies by their `founded year`, retrieving only their `name` and `founded year`."
   ]
  },
  {
   "cell_type": "code",
   "execution_count": 65,
   "metadata": {},
   "outputs": [
    {
     "data": {
      "text/plain": [
       "[{'name': 'US Army', 'founded_year': 1800},\n",
       " {'name': 'SmallWorlds', 'founded_year': 1800},\n",
       " {'name': 'Alstrasoft', 'founded_year': 1800},\n",
       " {'name': 'DuPont', 'founded_year': 1802},\n",
       " {'name': 'Bachmann Industries', 'founded_year': 1833},\n",
       " {'name': 'McKesson', 'founded_year': 1833},\n",
       " {'name': 'Bertelsmann', 'founded_year': 1835},\n",
       " {'name': 'Accuity', 'founded_year': 1836},\n",
       " {'name': 'CENTRA', 'founded_year': 1839},\n",
       " {'name': 'WeGame', 'founded_year': 1840}]"
      ]
     },
     "execution_count": 65,
     "metadata": {},
     "output_type": "execute_result"
    }
   ],
   "source": [
    "query={'founded_year': {'$ne': None}}\n",
    "filtro={'name': True,'founded_year': True, '_id': False}\n",
    "\n",
    "list(cn.find(query,filtro).sort('founded_year', 1).limit(10)) "
   ]
  },
  {
   "cell_type": "markdown",
   "metadata": {},
   "source": [
    "### 15. All the companies that have been founded on the first seven days of the month, including the seventh. Sort them by their `acquisition price` in a descending order. Limit the search to 10 documents."
   ]
  },
  {
   "cell_type": "code",
   "execution_count": 67,
   "metadata": {},
   "outputs": [
    {
     "data": {
      "text/plain": [
       "[{'name': 'Netscape'},\n",
       " {'name': 'PayPal'},\n",
       " {'name': 'Zappos'},\n",
       " {'name': 'Alibaba'},\n",
       " {'name': 'Postini'},\n",
       " {'name': 'Danger'},\n",
       " {'name': 'Clearwell Systems'},\n",
       " {'name': 'PrimeSense'},\n",
       " {'name': 'Amobee'},\n",
       " {'name': 'BlueLithium'}]"
      ]
     },
     "execution_count": 67,
     "metadata": {},
     "output_type": "execute_result"
    }
   ],
   "source": [
    "query= {'founded_day': {'$lt': 8}}\n",
    "filtro={'name': True, '_id': False}\n",
    "\n",
    "list(cn.find(query,filtro).sort('acquisition.price_amount', -1).limit(10)) "
   ]
  },
  {
   "cell_type": "markdown",
   "metadata": {},
   "source": [
    "### 16. All the companies on the 'web' `category` that have more than 4000 employees. Sort them by the amount of employees in ascending order."
   ]
  },
  {
   "cell_type": "code",
   "execution_count": 69,
   "metadata": {},
   "outputs": [
    {
     "data": {
      "text/plain": [
       "[{'name': 'Expedia'},\n",
       " {'name': 'AOL'},\n",
       " {'name': 'Webkinz'},\n",
       " {'name': 'Rakuten'},\n",
       " {'name': 'Los Angeles Times Media Group'},\n",
       " {'name': 'Groupon'},\n",
       " {'name': 'Yahoo!'},\n",
       " {'name': 'eBay'},\n",
       " {'name': 'Experian'}]"
      ]
     },
     "execution_count": 69,
     "metadata": {},
     "output_type": "execute_result"
    }
   ],
   "source": [
    "query= {'number_of_employees': {'$gt': 4000},'category_code':'web'}\n",
    "filtro={'name': True, '_id': False}\n",
    "\n",
    "list(cn.find(query,filtro).sort('number_of_employees', 1).limit(10)) "
   ]
  },
  {
   "cell_type": "markdown",
   "metadata": {},
   "source": [
    "### 17. All the companies whose acquisition amount is more than 10.000.000, and currency is 'EUR'."
   ]
  },
  {
   "cell_type": "code",
   "execution_count": 73,
   "metadata": {},
   "outputs": [
    {
     "data": {
      "text/plain": [
       "[{'name': 'ZYB'},\n",
       " {'name': 'Apertio'},\n",
       " {'name': 'Greenfield Online'},\n",
       " {'name': 'Webedia'},\n",
       " {'name': 'Wayfinder'},\n",
       " {'name': 'Tuenti Technologies'},\n",
       " {'name': 'BioMed Central'}]"
      ]
     },
     "execution_count": 73,
     "metadata": {},
     "output_type": "execute_result"
    }
   ],
   "source": [
    "query= {'acquisition.price_amount': {'$gt': 10000000},'acquisition.price_currency_code':'EUR'}\n",
    "filtro={'name': True, '_id': False}\n",
    "\n",
    "list(cn.find(query,filtro).limit(10)) "
   ]
  },
  {
   "cell_type": "markdown",
   "metadata": {},
   "source": [
    "### 18. All the companies that have been acquired on the first trimester of the year. Limit the search to 10 companies, and retrieve only their `name` and `acquisition` fields."
   ]
  },
  {
   "cell_type": "code",
   "execution_count": 75,
   "metadata": {},
   "outputs": [
    {
     "data": {
      "text/plain": [
       "[{'name': 'Kyte', 'acquisition': {'acquired_year': 2011}},\n",
       " {'name': 'NetRatings', 'acquisition': {'acquired_year': 2007}},\n",
       " {'name': 'blogTV', 'acquisition': {'acquired_year': 2013}},\n",
       " {'name': 'Livestream', 'acquisition': {'acquired_year': 2008}},\n",
       " {'name': 'iContact', 'acquisition': {'acquired_year': 2012}},\n",
       " {'name': 'Coghead', 'acquisition': {'acquired_year': 2009}},\n",
       " {'name': 'Dailymotion', 'acquisition': {'acquired_year': 2013}},\n",
       " {'name': 'Netvibes', 'acquisition': {'acquired_year': 2012}},\n",
       " {'name': 'Flickr', 'acquisition': {'acquired_year': 2005}},\n",
       " {'name': 'BabyCenter', 'acquisition': {'acquired_year': 2001}}]"
      ]
     },
     "execution_count": 75,
     "metadata": {},
     "output_type": "execute_result"
    }
   ],
   "source": [
    "query= {'acquisition.acquired_month': {'$lt': 4}}\n",
    "filtro={'name': True,'acquisition.acquired_year':True, '_id': False}\n",
    "\n",
    "list(cn.find(query,filtro).limit(10)) "
   ]
  },
  {
   "cell_type": "markdown",
   "metadata": {},
   "source": [
    "# Bonus\n",
    "### 19. All the companies that have been founded between 2000 and 2010, but have not been acquired before 2011."
   ]
  },
  {
   "cell_type": "code",
   "execution_count": 95,
   "metadata": {},
   "outputs": [
    {
     "data": {
      "text/plain": [
       "[{'name': 'Wetpaint', 'founded_year': 2005},\n",
       " {'name': 'Zoho', 'founded_year': 2005},\n",
       " {'name': 'Digg', 'founded_year': 2004},\n",
       " {'name': 'Facebook', 'founded_year': 2004},\n",
       " {'name': 'Omnidrive', 'founded_year': 2005},\n",
       " {'name': 'Geni', 'founded_year': 2006},\n",
       " {'name': 'Twitter', 'founded_year': 2006},\n",
       " {'name': 'Scribd', 'founded_year': 2007},\n",
       " {'name': 'Slacker', 'founded_year': 2006},\n",
       " {'name': 'MeetMoi', 'founded_year': 2007},\n",
       " {'name': 'Babelgum', 'founded_year': 2007},\n",
       " {'name': 'Technorati', 'founded_year': 2002},\n",
       " {'name': 'AddThis', 'founded_year': 2004},\n",
       " {'name': 'OpenX', 'founded_year': 2008},\n",
       " {'name': 'Mahalo', 'founded_year': 2007},\n",
       " {'name': 'Sparter', 'founded_year': 2007},\n",
       " {'name': 'Thoof', 'founded_year': 2006},\n",
       " {'name': 'Meetup', 'founded_year': 2002},\n",
       " {'name': 'LifeLock', 'founded_year': 2005},\n",
       " {'name': 'Wesabe', 'founded_year': 2005}]"
      ]
     },
     "execution_count": 95,
     "metadata": {},
     "output_type": "execute_result"
    }
   ],
   "source": [
    "query=  {'$and': [{'founded_year': {'$gte': 2000}},\n",
    "           {'founded_year': {'$lte': 2010}},\n",
    "          {'$or':[{'acquisition.acquired_year': {'$gt': 2011}},{'acquisition.acquired_year':None}]}\n",
    "                 ]}\n",
    "                \n",
    "seleccion={'name': True, 'founded_year': True, '_id': False}\n",
    "\n",
    "list(cn.find(query, seleccion).limit(20)) "
   ]
  },
  {
   "cell_type": "markdown",
   "metadata": {},
   "source": [
    "### 20. All the companies that have been 'deadpooled' after the third year."
   ]
  },
  {
   "cell_type": "code",
   "execution_count": 86,
   "metadata": {},
   "outputs": [],
   "source": [
    "import pandas as pd\n"
   ]
  },
  {
   "cell_type": "code",
   "execution_count": 80,
   "metadata": {},
   "outputs": [],
   "source": [
    "df= pd.DataFrame(cn.find())"
   ]
  },
  {
   "cell_type": "code",
   "execution_count": 82,
   "metadata": {},
   "outputs": [],
   "source": [
    "bad_index = df.deadpooled_year[df.deadpooled_year.isna()].index"
   ]
  },
  {
   "cell_type": "code",
   "execution_count": 84,
   "metadata": {},
   "outputs": [
    {
     "data": {
      "text/html": [
       "<div>\n",
       "<style scoped>\n",
       "    .dataframe tbody tr th:only-of-type {\n",
       "        vertical-align: middle;\n",
       "    }\n",
       "\n",
       "    .dataframe tbody tr th {\n",
       "        vertical-align: top;\n",
       "    }\n",
       "\n",
       "    .dataframe thead th {\n",
       "        text-align: right;\n",
       "    }\n",
       "</style>\n",
       "<table border=\"1\" class=\"dataframe\">\n",
       "  <thead>\n",
       "    <tr style=\"text-align: right;\">\n",
       "      <th></th>\n",
       "      <th>_id</th>\n",
       "      <th>name</th>\n",
       "      <th>permalink</th>\n",
       "      <th>crunchbase_url</th>\n",
       "      <th>homepage_url</th>\n",
       "      <th>blog_url</th>\n",
       "      <th>blog_feed_url</th>\n",
       "      <th>twitter_username</th>\n",
       "      <th>category_code</th>\n",
       "      <th>number_of_employees</th>\n",
       "      <th>...</th>\n",
       "      <th>milestones</th>\n",
       "      <th>video_embeds</th>\n",
       "      <th>screenshots</th>\n",
       "      <th>external_links</th>\n",
       "      <th>partners</th>\n",
       "      <th>deadpooled_month</th>\n",
       "      <th>deadpooled_day</th>\n",
       "      <th>deadpooled_url</th>\n",
       "      <th>ipo</th>\n",
       "      <th>deadpooled</th>\n",
       "    </tr>\n",
       "  </thead>\n",
       "  <tbody>\n",
       "    <tr>\n",
       "      <th>22</th>\n",
       "      <td>52cdef7c4bab8bd675297da0</td>\n",
       "      <td>Babelgum</td>\n",
       "      <td>babelgum</td>\n",
       "      <td>http://www.crunchbase.com/company/babelgum</td>\n",
       "      <td>http://babelgum.com</td>\n",
       "      <td>http://babelgum.com/blog</td>\n",
       "      <td>http://feeds.feedburner.com/Babelgum</td>\n",
       "      <td>Babelgum</td>\n",
       "      <td>games_video</td>\n",
       "      <td>NaN</td>\n",
       "      <td>...</td>\n",
       "      <td>[]</td>\n",
       "      <td>[]</td>\n",
       "      <td>[]</td>\n",
       "      <td>[]</td>\n",
       "      <td>[]</td>\n",
       "      <td>1.0</td>\n",
       "      <td>9.0</td>\n",
       "      <td></td>\n",
       "      <td>None</td>\n",
       "      <td>6.0</td>\n",
       "    </tr>\n",
       "    <tr>\n",
       "      <th>36</th>\n",
       "      <td>52cdef7c4bab8bd675297dae</td>\n",
       "      <td>Thoof</td>\n",
       "      <td>thoof</td>\n",
       "      <td>http://www.crunchbase.com/company/thoof</td>\n",
       "      <td>http://thoof.com</td>\n",
       "      <td></td>\n",
       "      <td>None</td>\n",
       "      <td>None</td>\n",
       "      <td>web</td>\n",
       "      <td>NaN</td>\n",
       "      <td>...</td>\n",
       "      <td>[]</td>\n",
       "      <td>[]</td>\n",
       "      <td>[]</td>\n",
       "      <td>[{'external_url': 'http://www.duraslide.com.sg...</td>\n",
       "      <td>[]</td>\n",
       "      <td>8.0</td>\n",
       "      <td>4.0</td>\n",
       "      <td></td>\n",
       "      <td>None</td>\n",
       "      <td>7.0</td>\n",
       "    </tr>\n",
       "    <tr>\n",
       "      <th>44</th>\n",
       "      <td>52cdef7c4bab8bd675297db6</td>\n",
       "      <td>Wesabe</td>\n",
       "      <td>wesabe</td>\n",
       "      <td>http://www.crunchbase.com/company/wesabe</td>\n",
       "      <td>http://wesabe.com</td>\n",
       "      <td>http://blog.wesabe.com/</td>\n",
       "      <td>http://blog.wesabe.com/feed/</td>\n",
       "      <td>jasonlong</td>\n",
       "      <td>web</td>\n",
       "      <td>NaN</td>\n",
       "      <td>...</td>\n",
       "      <td>[]</td>\n",
       "      <td>[{'embed_code': '&lt;script src=\"http://flash.rev...</td>\n",
       "      <td>[]</td>\n",
       "      <td>[]</td>\n",
       "      <td>[]</td>\n",
       "      <td>6.0</td>\n",
       "      <td>30.0</td>\n",
       "      <td>http://techcrunch.com/2010/06/30/wesabe-shuts-...</td>\n",
       "      <td>None</td>\n",
       "      <td>5.0</td>\n",
       "    </tr>\n",
       "    <tr>\n",
       "      <th>52</th>\n",
       "      <td>52cdef7c4bab8bd675297dbe</td>\n",
       "      <td>Stickam</td>\n",
       "      <td>stickam</td>\n",
       "      <td>http://www.crunchbase.com/company/stickam</td>\n",
       "      <td>http://www.stickam.com</td>\n",
       "      <td>http://webmaster.stickam.com</td>\n",
       "      <td>http://blog.stickam.com/index.php/feed/</td>\n",
       "      <td>Stickam</td>\n",
       "      <td>games_video</td>\n",
       "      <td>35.0</td>\n",
       "      <td>...</td>\n",
       "      <td>[]</td>\n",
       "      <td>[]</td>\n",
       "      <td>[]</td>\n",
       "      <td>[]</td>\n",
       "      <td>[]</td>\n",
       "      <td>1.0</td>\n",
       "      <td>31.0</td>\n",
       "      <td>http://blog.stickam.com/post/41909003713/stick...</td>\n",
       "      <td>None</td>\n",
       "      <td>7.0</td>\n",
       "    </tr>\n",
       "    <tr>\n",
       "      <th>66</th>\n",
       "      <td>52cdef7c4bab8bd675297dcc</td>\n",
       "      <td>AllPeers</td>\n",
       "      <td>allpeers</td>\n",
       "      <td>http://www.crunchbase.com/company/allpeers</td>\n",
       "      <td>http://www.allpeers.com</td>\n",
       "      <td>http://www.allpeers.com/blog/</td>\n",
       "      <td>http://www.allpeers.com/blog/feed/</td>\n",
       "      <td>None</td>\n",
       "      <td>web</td>\n",
       "      <td>NaN</td>\n",
       "      <td>...</td>\n",
       "      <td>[]</td>\n",
       "      <td>[]</td>\n",
       "      <td>[]</td>\n",
       "      <td>[]</td>\n",
       "      <td>[]</td>\n",
       "      <td>3.0</td>\n",
       "      <td>3.0</td>\n",
       "      <td>http://www.techcrunch.com/2008/03/03/much-hype...</td>\n",
       "      <td>None</td>\n",
       "      <td>4.0</td>\n",
       "    </tr>\n",
       "  </tbody>\n",
       "</table>\n",
       "<p>5 rows × 43 columns</p>\n",
       "</div>"
      ],
      "text/plain": [
       "                         _id      name permalink  \\\n",
       "22  52cdef7c4bab8bd675297da0  Babelgum  babelgum   \n",
       "36  52cdef7c4bab8bd675297dae     Thoof     thoof   \n",
       "44  52cdef7c4bab8bd675297db6    Wesabe    wesabe   \n",
       "52  52cdef7c4bab8bd675297dbe   Stickam   stickam   \n",
       "66  52cdef7c4bab8bd675297dcc  AllPeers  allpeers   \n",
       "\n",
       "                                crunchbase_url             homepage_url  \\\n",
       "22  http://www.crunchbase.com/company/babelgum      http://babelgum.com   \n",
       "36     http://www.crunchbase.com/company/thoof         http://thoof.com   \n",
       "44    http://www.crunchbase.com/company/wesabe        http://wesabe.com   \n",
       "52   http://www.crunchbase.com/company/stickam   http://www.stickam.com   \n",
       "66  http://www.crunchbase.com/company/allpeers  http://www.allpeers.com   \n",
       "\n",
       "                         blog_url                            blog_feed_url  \\\n",
       "22       http://babelgum.com/blog     http://feeds.feedburner.com/Babelgum   \n",
       "36                                                                    None   \n",
       "44        http://blog.wesabe.com/             http://blog.wesabe.com/feed/   \n",
       "52   http://webmaster.stickam.com  http://blog.stickam.com/index.php/feed/   \n",
       "66  http://www.allpeers.com/blog/       http://www.allpeers.com/blog/feed/   \n",
       "\n",
       "   twitter_username category_code  number_of_employees  ...  milestones  \\\n",
       "22         Babelgum   games_video                  NaN  ...          []   \n",
       "36             None           web                  NaN  ...          []   \n",
       "44        jasonlong           web                  NaN  ...          []   \n",
       "52          Stickam   games_video                 35.0  ...          []   \n",
       "66             None           web                  NaN  ...          []   \n",
       "\n",
       "                                         video_embeds  screenshots  \\\n",
       "22                                                 []           []   \n",
       "36                                                 []           []   \n",
       "44  [{'embed_code': '<script src=\"http://flash.rev...           []   \n",
       "52                                                 []           []   \n",
       "66                                                 []           []   \n",
       "\n",
       "                                       external_links partners  \\\n",
       "22                                                 []       []   \n",
       "36  [{'external_url': 'http://www.duraslide.com.sg...       []   \n",
       "44                                                 []       []   \n",
       "52                                                 []       []   \n",
       "66                                                 []       []   \n",
       "\n",
       "   deadpooled_month deadpooled_day  \\\n",
       "22              1.0            9.0   \n",
       "36              8.0            4.0   \n",
       "44              6.0           30.0   \n",
       "52              1.0           31.0   \n",
       "66              3.0            3.0   \n",
       "\n",
       "                                       deadpooled_url   ipo deadpooled  \n",
       "22                                                     None        6.0  \n",
       "36                                                     None        7.0  \n",
       "44  http://techcrunch.com/2010/06/30/wesabe-shuts-...  None        5.0  \n",
       "52  http://blog.stickam.com/post/41909003713/stick...  None        7.0  \n",
       "66  http://www.techcrunch.com/2008/03/03/much-hype...  None        4.0  \n",
       "\n",
       "[5 rows x 43 columns]"
      ]
     },
     "execution_count": 84,
     "metadata": {},
     "output_type": "execute_result"
    }
   ],
   "source": [
    "df = df[df.deadpooled_year > 3]\n",
    "df.head()\n",
    "\n"
   ]
  },
  {
   "cell_type": "code",
   "execution_count": null,
   "metadata": {},
   "outputs": [],
   "source": []
  },
  {
   "cell_type": "code",
   "execution_count": null,
   "metadata": {},
   "outputs": [],
   "source": [
    "df['deadpooled']= df.deadpooled_year - df.founded_year\n",
    "df.head()"
   ]
  },
  {
   "cell_type": "code",
   "execution_count": 85,
   "metadata": {},
   "outputs": [
    {
     "data": {
      "text/html": [
       "<div>\n",
       "<style scoped>\n",
       "    .dataframe tbody tr th:only-of-type {\n",
       "        vertical-align: middle;\n",
       "    }\n",
       "\n",
       "    .dataframe tbody tr th {\n",
       "        vertical-align: top;\n",
       "    }\n",
       "\n",
       "    .dataframe thead th {\n",
       "        text-align: right;\n",
       "    }\n",
       "</style>\n",
       "<table border=\"1\" class=\"dataframe\">\n",
       "  <thead>\n",
       "    <tr style=\"text-align: right;\">\n",
       "      <th></th>\n",
       "      <th>_id</th>\n",
       "      <th>name</th>\n",
       "      <th>permalink</th>\n",
       "      <th>crunchbase_url</th>\n",
       "      <th>homepage_url</th>\n",
       "      <th>blog_url</th>\n",
       "      <th>blog_feed_url</th>\n",
       "      <th>twitter_username</th>\n",
       "      <th>category_code</th>\n",
       "      <th>number_of_employees</th>\n",
       "      <th>...</th>\n",
       "      <th>milestones</th>\n",
       "      <th>video_embeds</th>\n",
       "      <th>screenshots</th>\n",
       "      <th>external_links</th>\n",
       "      <th>partners</th>\n",
       "      <th>deadpooled_month</th>\n",
       "      <th>deadpooled_day</th>\n",
       "      <th>deadpooled_url</th>\n",
       "      <th>ipo</th>\n",
       "      <th>deadpooled</th>\n",
       "    </tr>\n",
       "  </thead>\n",
       "  <tbody>\n",
       "    <tr>\n",
       "      <th>22</th>\n",
       "      <td>52cdef7c4bab8bd675297da0</td>\n",
       "      <td>Babelgum</td>\n",
       "      <td>babelgum</td>\n",
       "      <td>http://www.crunchbase.com/company/babelgum</td>\n",
       "      <td>http://babelgum.com</td>\n",
       "      <td>http://babelgum.com/blog</td>\n",
       "      <td>http://feeds.feedburner.com/Babelgum</td>\n",
       "      <td>Babelgum</td>\n",
       "      <td>games_video</td>\n",
       "      <td>NaN</td>\n",
       "      <td>...</td>\n",
       "      <td>[]</td>\n",
       "      <td>[]</td>\n",
       "      <td>[]</td>\n",
       "      <td>[]</td>\n",
       "      <td>[]</td>\n",
       "      <td>1.0</td>\n",
       "      <td>9.0</td>\n",
       "      <td></td>\n",
       "      <td>None</td>\n",
       "      <td>6.0</td>\n",
       "    </tr>\n",
       "    <tr>\n",
       "      <th>36</th>\n",
       "      <td>52cdef7c4bab8bd675297dae</td>\n",
       "      <td>Thoof</td>\n",
       "      <td>thoof</td>\n",
       "      <td>http://www.crunchbase.com/company/thoof</td>\n",
       "      <td>http://thoof.com</td>\n",
       "      <td></td>\n",
       "      <td>None</td>\n",
       "      <td>None</td>\n",
       "      <td>web</td>\n",
       "      <td>NaN</td>\n",
       "      <td>...</td>\n",
       "      <td>[]</td>\n",
       "      <td>[]</td>\n",
       "      <td>[]</td>\n",
       "      <td>[{'external_url': 'http://www.duraslide.com.sg...</td>\n",
       "      <td>[]</td>\n",
       "      <td>8.0</td>\n",
       "      <td>4.0</td>\n",
       "      <td></td>\n",
       "      <td>None</td>\n",
       "      <td>7.0</td>\n",
       "    </tr>\n",
       "    <tr>\n",
       "      <th>44</th>\n",
       "      <td>52cdef7c4bab8bd675297db6</td>\n",
       "      <td>Wesabe</td>\n",
       "      <td>wesabe</td>\n",
       "      <td>http://www.crunchbase.com/company/wesabe</td>\n",
       "      <td>http://wesabe.com</td>\n",
       "      <td>http://blog.wesabe.com/</td>\n",
       "      <td>http://blog.wesabe.com/feed/</td>\n",
       "      <td>jasonlong</td>\n",
       "      <td>web</td>\n",
       "      <td>NaN</td>\n",
       "      <td>...</td>\n",
       "      <td>[]</td>\n",
       "      <td>[{'embed_code': '&lt;script src=\"http://flash.rev...</td>\n",
       "      <td>[]</td>\n",
       "      <td>[]</td>\n",
       "      <td>[]</td>\n",
       "      <td>6.0</td>\n",
       "      <td>30.0</td>\n",
       "      <td>http://techcrunch.com/2010/06/30/wesabe-shuts-...</td>\n",
       "      <td>None</td>\n",
       "      <td>5.0</td>\n",
       "    </tr>\n",
       "    <tr>\n",
       "      <th>52</th>\n",
       "      <td>52cdef7c4bab8bd675297dbe</td>\n",
       "      <td>Stickam</td>\n",
       "      <td>stickam</td>\n",
       "      <td>http://www.crunchbase.com/company/stickam</td>\n",
       "      <td>http://www.stickam.com</td>\n",
       "      <td>http://webmaster.stickam.com</td>\n",
       "      <td>http://blog.stickam.com/index.php/feed/</td>\n",
       "      <td>Stickam</td>\n",
       "      <td>games_video</td>\n",
       "      <td>35.0</td>\n",
       "      <td>...</td>\n",
       "      <td>[]</td>\n",
       "      <td>[]</td>\n",
       "      <td>[]</td>\n",
       "      <td>[]</td>\n",
       "      <td>[]</td>\n",
       "      <td>1.0</td>\n",
       "      <td>31.0</td>\n",
       "      <td>http://blog.stickam.com/post/41909003713/stick...</td>\n",
       "      <td>None</td>\n",
       "      <td>7.0</td>\n",
       "    </tr>\n",
       "    <tr>\n",
       "      <th>66</th>\n",
       "      <td>52cdef7c4bab8bd675297dcc</td>\n",
       "      <td>AllPeers</td>\n",
       "      <td>allpeers</td>\n",
       "      <td>http://www.crunchbase.com/company/allpeers</td>\n",
       "      <td>http://www.allpeers.com</td>\n",
       "      <td>http://www.allpeers.com/blog/</td>\n",
       "      <td>http://www.allpeers.com/blog/feed/</td>\n",
       "      <td>None</td>\n",
       "      <td>web</td>\n",
       "      <td>NaN</td>\n",
       "      <td>...</td>\n",
       "      <td>[]</td>\n",
       "      <td>[]</td>\n",
       "      <td>[]</td>\n",
       "      <td>[]</td>\n",
       "      <td>[]</td>\n",
       "      <td>3.0</td>\n",
       "      <td>3.0</td>\n",
       "      <td>http://www.techcrunch.com/2008/03/03/much-hype...</td>\n",
       "      <td>None</td>\n",
       "      <td>4.0</td>\n",
       "    </tr>\n",
       "  </tbody>\n",
       "</table>\n",
       "<p>5 rows × 43 columns</p>\n",
       "</div>"
      ],
      "text/plain": [
       "                         _id      name permalink  \\\n",
       "22  52cdef7c4bab8bd675297da0  Babelgum  babelgum   \n",
       "36  52cdef7c4bab8bd675297dae     Thoof     thoof   \n",
       "44  52cdef7c4bab8bd675297db6    Wesabe    wesabe   \n",
       "52  52cdef7c4bab8bd675297dbe   Stickam   stickam   \n",
       "66  52cdef7c4bab8bd675297dcc  AllPeers  allpeers   \n",
       "\n",
       "                                crunchbase_url             homepage_url  \\\n",
       "22  http://www.crunchbase.com/company/babelgum      http://babelgum.com   \n",
       "36     http://www.crunchbase.com/company/thoof         http://thoof.com   \n",
       "44    http://www.crunchbase.com/company/wesabe        http://wesabe.com   \n",
       "52   http://www.crunchbase.com/company/stickam   http://www.stickam.com   \n",
       "66  http://www.crunchbase.com/company/allpeers  http://www.allpeers.com   \n",
       "\n",
       "                         blog_url                            blog_feed_url  \\\n",
       "22       http://babelgum.com/blog     http://feeds.feedburner.com/Babelgum   \n",
       "36                                                                    None   \n",
       "44        http://blog.wesabe.com/             http://blog.wesabe.com/feed/   \n",
       "52   http://webmaster.stickam.com  http://blog.stickam.com/index.php/feed/   \n",
       "66  http://www.allpeers.com/blog/       http://www.allpeers.com/blog/feed/   \n",
       "\n",
       "   twitter_username category_code  number_of_employees  ...  milestones  \\\n",
       "22         Babelgum   games_video                  NaN  ...          []   \n",
       "36             None           web                  NaN  ...          []   \n",
       "44        jasonlong           web                  NaN  ...          []   \n",
       "52          Stickam   games_video                 35.0  ...          []   \n",
       "66             None           web                  NaN  ...          []   \n",
       "\n",
       "                                         video_embeds  screenshots  \\\n",
       "22                                                 []           []   \n",
       "36                                                 []           []   \n",
       "44  [{'embed_code': '<script src=\"http://flash.rev...           []   \n",
       "52                                                 []           []   \n",
       "66                                                 []           []   \n",
       "\n",
       "                                       external_links partners  \\\n",
       "22                                                 []       []   \n",
       "36  [{'external_url': 'http://www.duraslide.com.sg...       []   \n",
       "44                                                 []       []   \n",
       "52                                                 []       []   \n",
       "66                                                 []       []   \n",
       "\n",
       "   deadpooled_month deadpooled_day  \\\n",
       "22              1.0            9.0   \n",
       "36              8.0            4.0   \n",
       "44              6.0           30.0   \n",
       "52              1.0           31.0   \n",
       "66              3.0            3.0   \n",
       "\n",
       "                                       deadpooled_url   ipo deadpooled  \n",
       "22                                                     None        6.0  \n",
       "36                                                     None        7.0  \n",
       "44  http://techcrunch.com/2010/06/30/wesabe-shuts-...  None        5.0  \n",
       "52  http://blog.stickam.com/post/41909003713/stick...  None        7.0  \n",
       "66  http://www.techcrunch.com/2008/03/03/much-hype...  None        4.0  \n",
       "\n",
       "[5 rows x 43 columns]"
      ]
     },
     "execution_count": 85,
     "metadata": {},
     "output_type": "execute_result"
    }
   ],
   "source": [
    "df[df.deadpooled > 3].head()"
   ]
  },
  {
   "cell_type": "code",
   "execution_count": null,
   "metadata": {},
   "outputs": [],
   "source": []
  }
 ],
 "metadata": {
  "kernelspec": {
   "display_name": "Python 3 (ipykernel)",
   "language": "python",
   "name": "python3"
  },
  "language_info": {
   "codemirror_mode": {
    "name": "ipython",
    "version": 3
   },
   "file_extension": ".py",
   "mimetype": "text/x-python",
   "name": "python",
   "nbconvert_exporter": "python",
   "pygments_lexer": "ipython3",
   "version": "3.9.13"
  }
 },
 "nbformat": 4,
 "nbformat_minor": 2
}
