{
 "cells": [
  {
   "cell_type": "markdown",
   "metadata": {},
   "source": [
    "# Advanced Querying Mongo"
   ]
  },
  {
   "cell_type": "markdown",
   "metadata": {},
   "source": [
    "Importing libraries and setting up connection"
   ]
  },
  {
   "cell_type": "code",
   "execution_count": 1,
   "metadata": {},
   "outputs": [],
   "source": [
    "from pymongo import MongoClient\n",
    "cursor=MongoClient()\n",
    "str_conn='mongodb://localhost:27017'\n",
    "\n",
    "cursor=MongoClient(str_conn)"
   ]
  },
  {
   "cell_type": "code",
   "execution_count": 2,
   "metadata": {},
   "outputs": [],
   "source": [
    "colecta = cursor.companies\n",
    "colec = colecta.company"
   ]
  },
  {
   "cell_type": "code",
   "execution_count": null,
   "metadata": {},
   "outputs": [],
   "source": []
  },
  {
   "cell_type": "markdown",
   "metadata": {},
   "source": [
    "### 1. All the companies whose name match 'Babelgum'. Retrieve only their `name` field."
   ]
  },
  {
   "cell_type": "code",
   "execution_count": 5,
   "metadata": {},
   "outputs": [
    {
     "data": {
      "text/plain": [
       "[{'name': 'Babelgum'}]"
      ]
     },
     "execution_count": 5,
     "metadata": {},
     "output_type": "execute_result"
    }
   ],
   "source": [
    "list(colec.find({'name': 'Babelgum'},{'_id':0, 'name':1}))"
   ]
  },
  {
   "cell_type": "markdown",
   "metadata": {},
   "source": [
    "### 2. All the companies that have more than 5000 employees. Limit the search to 20 companies and sort them by **number of employees**."
   ]
  },
  {
   "cell_type": "code",
   "execution_count": 17,
   "metadata": {},
   "outputs": [
    {
     "data": {
      "text/plain": [
       "[{'name': 'Siemens'},\n",
       " {'name': 'IBM'},\n",
       " {'name': 'Toyota'},\n",
       " {'name': 'PayPal'},\n",
       " {'name': 'Nippon Telegraph and Telephone Corporation'},\n",
       " {'name': 'Samsung Electronics'},\n",
       " {'name': 'Accenture'},\n",
       " {'name': 'Tata Consultancy Services'},\n",
       " {'name': 'Flextronics International'},\n",
       " {'name': 'Safeway'},\n",
       " {'name': 'Sony'},\n",
       " {'name': 'LG'},\n",
       " {'name': 'Ford'},\n",
       " {'name': 'Boeing'},\n",
       " {'name': 'Digital Equipment Corporation'},\n",
       " {'name': 'Nokia'},\n",
       " {'name': 'MItsubishi Electric'},\n",
       " {'name': 'MItsubishi Electric'},\n",
       " {'name': 'Comcast'},\n",
       " {'name': 'Bertelsmann'}]"
      ]
     },
     "execution_count": 17,
     "metadata": {},
     "output_type": "execute_result"
    }
   ],
   "source": [
    "list(colec.find({'number_of_employees': {'$gt': 5000}},{'_id':0, 'name':1}).sort('number_of_employees', -1).limit(20))"
   ]
  },
  {
   "cell_type": "markdown",
   "metadata": {},
   "source": [
    "### 3. All the companies founded between 2000 and 2005, both years included. Retrieve only the `name` and `founded_year` fields."
   ]
  },
  {
   "cell_type": "code",
   "execution_count": 24,
   "metadata": {},
   "outputs": [
    {
     "data": {
      "text/plain": [
       "[{'name': 'Wetpaint', 'founded_year': 2005},\n",
       " {'name': 'Zoho', 'founded_year': 2005},\n",
       " {'name': 'Digg', 'founded_year': 2004},\n",
       " {'name': 'Facebook', 'founded_year': 2004},\n",
       " {'name': 'Omnidrive', 'founded_year': 2005}]"
      ]
     },
     "execution_count": 24,
     "metadata": {},
     "output_type": "execute_result"
    }
   ],
   "source": [
    "query = {'$and' : [  {'founded_year': {'$gte': 2000}},{'founded_year': {'$lte': 2005}}]}\n",
    "\n",
    "filtro = {'name': True, 'founded_year': True, '_id': False}\n",
    "#\n",
    "\n",
    "list(colec.find(query, filtro).limit(5))\n",
    "                 "
   ]
  },
  {
   "cell_type": "markdown",
   "metadata": {},
   "source": [
    "### 4. All the companies that had a Valuation Amount of more than 100.000.000 and have been founded before 2010. Retrieve only the `name` and `ipo` fields."
   ]
  },
  {
   "cell_type": "code",
   "execution_count": 30,
   "metadata": {},
   "outputs": [
    {
     "data": {
      "text/plain": [
       "[{'name': 'Facebook',\n",
       "  'ipo': {'valuation_amount': 104000000000,\n",
       "   'valuation_currency_code': 'USD',\n",
       "   'pub_year': 2012,\n",
       "   'pub_month': 5,\n",
       "   'pub_day': 18,\n",
       "   'stock_symbol': 'NASDAQ:FB'}},\n",
       " {'name': 'Twitter',\n",
       "  'ipo': {'valuation_amount': 18100000000,\n",
       "   'valuation_currency_code': 'USD',\n",
       "   'pub_year': 2013,\n",
       "   'pub_month': 11,\n",
       "   'pub_day': 7,\n",
       "   'stock_symbol': 'NYSE:TWTR'}},\n",
       " {'name': 'Yelp',\n",
       "  'ipo': {'valuation_amount': 1300000000,\n",
       "   'valuation_currency_code': 'USD',\n",
       "   'pub_year': 2012,\n",
       "   'pub_month': 3,\n",
       "   'pub_day': 2,\n",
       "   'stock_symbol': 'NYSE:YELP'}}]"
      ]
     },
     "execution_count": 30,
     "metadata": {},
     "output_type": "execute_result"
    }
   ],
   "source": [
    "que1 = {'$and' : [  {'ipo.valuation_amount':{'$gte': 1e8}} ,{'founded_year': {'$lte': 2010}}]}\n",
    "\n",
    "don1 = {'_id':0, 'name':1, 'ipo':1}\n",
    "\n",
    "list(colec.find(que1, don1).limit(3))"
   ]
  },
  {
   "cell_type": "markdown",
   "metadata": {},
   "source": [
    "### 5. All the companies that have less than 1000 employees and have been founded before 2005. Order them by the number of employees and limit the search to 10 companies."
   ]
  },
  {
   "cell_type": "code",
   "execution_count": 72,
   "metadata": {},
   "outputs": [
    {
     "data": {
      "text/plain": [
       "[{'name': 'Infinera Corporation', 'number_of_employees': 974},\n",
       " {'name': 'Box', 'number_of_employees': 950},\n",
       " {'name': 'NorthPoint Communications Group', 'number_of_employees': 948},\n",
       " {'name': '888 Holdings', 'number_of_employees': 931},\n",
       " {'name': 'Forrester Research', 'number_of_employees': 903},\n",
       " {'name': 'Webmetrics', 'number_of_employees': 900},\n",
       " {'name': 'SonicWALL', 'number_of_employees': 900},\n",
       " {'name': 'Workday', 'number_of_employees': 900},\n",
       " {'name': 'Cornerstone OnDemand', 'number_of_employees': 881},\n",
       " {'name': 'Mozilla', 'number_of_employees': 800}]"
      ]
     },
     "execution_count": 72,
     "metadata": {},
     "output_type": "execute_result"
    }
   ],
   "source": [
    "que2 = {'$and' : [  {'number_of_employees': {'$lt': 1000}} ,{'founded_year': {'$lte': 2005}}]}\n",
    "#Filter not required, but the output was too big\n",
    "don2 = {'_id':0, 'name':1, 'number_of_employees':1 }\n",
    "\n",
    "\n",
    "list(colec.find(que2,don2).sort('number_of_employees', -1).limit(10))"
   ]
  },
  {
   "cell_type": "markdown",
   "metadata": {},
   "source": [
    "### 6. All the companies that don't include the `partners` field."
   ]
  },
  {
   "cell_type": "code",
   "execution_count": 62,
   "metadata": {},
   "outputs": [
    {
     "data": {
      "text/plain": [
       "[{'name': 'Wetpaint'},\n",
       " {'name': 'AdventNet'},\n",
       " {'name': 'Zoho'},\n",
       " {'name': 'Digg'},\n",
       " {'name': 'Facebook'}]"
      ]
     },
     "execution_count": 62,
     "metadata": {},
     "output_type": "execute_result"
    }
   ],
   "source": [
    "que3 = {'parters': {'$ne': 0}}\n",
    "don3 = {'_id':0, 'name':1}\n",
    "\n",
    "list(colec.find(que3, don3).limit(5))"
   ]
  },
  {
   "cell_type": "markdown",
   "metadata": {},
   "source": [
    "### 7. All the companies that have a null type of value on the `category_code` field."
   ]
  },
  {
   "cell_type": "code",
   "execution_count": 66,
   "metadata": {},
   "outputs": [
    {
     "data": {
      "text/plain": [
       "[{'name': 'Collective'},\n",
       " {'name': 'Snimmer'},\n",
       " {'name': 'KoolIM'},\n",
       " {'name': 'Level9 Media'},\n",
       " {'name': 'VidKing'}]"
      ]
     },
     "execution_count": 66,
     "metadata": {},
     "output_type": "execute_result"
    }
   ],
   "source": [
    "que4 =  {'category_code': None}\n",
    "don4 = {'_id':0, 'name':1}\n",
    "\n",
    "list(colec.find(que4, don4).limit(5))"
   ]
  },
  {
   "cell_type": "markdown",
   "metadata": {},
   "source": [
    "### 8. All the companies that have at least 100 employees but less than 1000. Retrieve only the `name` and `number of employees` fields."
   ]
  },
  {
   "cell_type": "code",
   "execution_count": 69,
   "metadata": {},
   "outputs": [
    {
     "data": {
      "text/plain": [
       "[{'name': 'AdventNet', 'number_of_employees': 600},\n",
       " {'name': 'AddThis', 'number_of_employees': 120},\n",
       " {'name': 'OpenX', 'number_of_employees': 305},\n",
       " {'name': 'LifeLock', 'number_of_employees': 644},\n",
       " {'name': 'Jajah', 'number_of_employees': 110}]"
      ]
     },
     "execution_count": 69,
     "metadata": {},
     "output_type": "execute_result"
    }
   ],
   "source": [
    "que5 = {'$and' : [  {'number_of_employees': {'$gt': 100}} ,{'number_of_employees': {'$lt': 1000}}]}\n",
    "don5 = {'_id':0, 'name':1, 'number_of_employees':1 }\n",
    "\n",
    "list(colec.find(que5,don5).limit(5))"
   ]
  },
  {
   "cell_type": "markdown",
   "metadata": {},
   "source": [
    "### 9. Order all the companies by their IPO price in a descending order."
   ]
  },
  {
   "cell_type": "code",
   "execution_count": 83,
   "metadata": {},
   "outputs": [
    {
     "data": {
      "text/plain": [
       "[{'name': 'GREE', 'ipo': {'valuation_amount': 108960000000}},\n",
       " {'name': 'Facebook', 'ipo': {'valuation_amount': 104000000000}},\n",
       " {'name': 'Amazon', 'ipo': {'valuation_amount': 100000000000}},\n",
       " {'name': 'Twitter', 'ipo': {'valuation_amount': 18100000000}},\n",
       " {'name': 'Groupon', 'ipo': {'valuation_amount': 12800000000}}]"
      ]
     },
     "execution_count": 83,
     "metadata": {},
     "output_type": "execute_result"
    }
   ],
   "source": [
    "que6 =  {'ipo.valuation_amount':{'$gte': 1}}\n",
    "don6 = {'_id':0, 'name':1, 'ipo.valuation_amount':1 }\n",
    "\n",
    "list(colec.find(que6,don6).sort('ipo.valuation_amount', -1).limit(5))"
   ]
  },
  {
   "cell_type": "markdown",
   "metadata": {},
   "source": [
    "### 10. Retrieve the 10 companies with more employees, order by the `number of employees`"
   ]
  },
  {
   "cell_type": "code",
   "execution_count": 87,
   "metadata": {},
   "outputs": [
    {
     "data": {
      "text/plain": [
       "[{'name': 'Siemens', 'number_of_employees': 405000},\n",
       " {'name': 'IBM', 'number_of_employees': 388000},\n",
       " {'name': 'Toyota', 'number_of_employees': 320000},\n",
       " {'name': 'PayPal', 'number_of_employees': 300000},\n",
       " {'name': 'Nippon Telegraph and Telephone Corporation',\n",
       "  'number_of_employees': 227000},\n",
       " {'name': 'Samsung Electronics', 'number_of_employees': 221726},\n",
       " {'name': 'Accenture', 'number_of_employees': 205000},\n",
       " {'name': 'Tata Consultancy Services', 'number_of_employees': 200300},\n",
       " {'name': 'Flextronics International', 'number_of_employees': 200000},\n",
       " {'name': 'Safeway', 'number_of_employees': 186000}]"
      ]
     },
     "execution_count": 87,
     "metadata": {},
     "output_type": "execute_result"
    }
   ],
   "source": [
    "que7 =  {'number_of_employees':{'$gte': 1e5}}\n",
    "don7 = {'_id':0, 'name':1, 'number_of_employees':1 }\n",
    "\n",
    "list(colec.find(que7,don7).sort('number_of_employees', -1).limit(10))"
   ]
  },
  {
   "cell_type": "markdown",
   "metadata": {},
   "source": [
    "### 11. All the companies founded on the second semester of the year. Limit your search to 1000 companies."
   ]
  },
  {
   "cell_type": "code",
   "execution_count": null,
   "metadata": {},
   "outputs": [],
   "source": [
    "# Your Code"
   ]
  },
  {
   "cell_type": "markdown",
   "metadata": {},
   "source": [
    "### 12. All the companies founded before 2000 that have an acquisition amount of more than 10.000.00"
   ]
  },
  {
   "cell_type": "code",
   "execution_count": null,
   "metadata": {},
   "outputs": [],
   "source": [
    "# Your Code"
   ]
  },
  {
   "cell_type": "markdown",
   "metadata": {},
   "source": [
    "### 13. All the companies that have been acquired after 2010, order by the acquisition amount, and retrieve only their `name` and `acquisition` field."
   ]
  },
  {
   "cell_type": "code",
   "execution_count": null,
   "metadata": {},
   "outputs": [],
   "source": [
    "# Your Code"
   ]
  },
  {
   "cell_type": "markdown",
   "metadata": {},
   "source": [
    "### 14. Order the companies by their `founded year`, retrieving only their `name` and `founded year`."
   ]
  },
  {
   "cell_type": "code",
   "execution_count": 90,
   "metadata": {},
   "outputs": [
    {
     "data": {
      "text/plain": [
       "[{'name': 'Advaliant', 'founded_year': 2013},\n",
       " {'name': 'Fixya', 'founded_year': 2013},\n",
       " {'name': 'iBazar', 'founded_year': 2013},\n",
       " {'name': 'Fluc', 'founded_year': 2013},\n",
       " {'name': 'Wamba', 'founded_year': 2013}]"
      ]
     },
     "execution_count": 90,
     "metadata": {},
     "output_type": "execute_result"
    }
   ],
   "source": [
    "que11 =  {'founded_year':{'$lte': 3e3}}\n",
    "don11 = {'_id':0, 'name':1, 'founded_year':1 }\n",
    "\n",
    "list(colec.find(que11,don11).sort('founded_year', -1).limit(5))"
   ]
  },
  {
   "cell_type": "markdown",
   "metadata": {},
   "source": [
    "### 15. All the companies that have been founded on the first seven days of the month, including the seventh. Sort them by their `acquisition price` in a descending order. Limit the search to 10 documents."
   ]
  },
  {
   "cell_type": "code",
   "execution_count": null,
   "metadata": {},
   "outputs": [],
   "source": [
    "# Your Code"
   ]
  },
  {
   "cell_type": "markdown",
   "metadata": {},
   "source": [
    "### 16. All the companies on the 'web' `category` that have more than 4000 employees. Sort them by the amount of employees in ascending order."
   ]
  },
  {
   "cell_type": "code",
   "execution_count": null,
   "metadata": {},
   "outputs": [],
   "source": [
    "# Your Code"
   ]
  },
  {
   "cell_type": "markdown",
   "metadata": {},
   "source": [
    "### 17. All the companies whose acquisition amount is more than 10.000.000, and currency is 'EUR'."
   ]
  },
  {
   "cell_type": "code",
   "execution_count": null,
   "metadata": {},
   "outputs": [],
   "source": [
    "# Your Code"
   ]
  },
  {
   "cell_type": "markdown",
   "metadata": {},
   "source": [
    "### 18. All the companies that have been acquired on the first trimester of the year. Limit the search to 10 companies, and retrieve only their `name` and `acquisition` fields."
   ]
  },
  {
   "cell_type": "code",
   "execution_count": null,
   "metadata": {},
   "outputs": [],
   "source": [
    "# Your Code"
   ]
  },
  {
   "cell_type": "markdown",
   "metadata": {},
   "source": [
    "# Bonus\n",
    "### 19. All the companies that have been founded between 2000 and 2010, but have not been acquired before 2011."
   ]
  },
  {
   "cell_type": "code",
   "execution_count": null,
   "metadata": {},
   "outputs": [],
   "source": [
    "# Your Code"
   ]
  },
  {
   "cell_type": "markdown",
   "metadata": {},
   "source": [
    "### 20. All the companies that have been 'deadpooled' after the third year."
   ]
  },
  {
   "cell_type": "code",
   "execution_count": null,
   "metadata": {},
   "outputs": [],
   "source": [
    "# Your Code"
   ]
  }
 ],
 "metadata": {
  "kernelspec": {
   "display_name": "Python 3 (ipykernel)",
   "language": "python",
   "name": "python3"
  },
  "language_info": {
   "codemirror_mode": {
    "name": "ipython",
    "version": 3
   },
   "file_extension": ".py",
   "mimetype": "text/x-python",
   "name": "python",
   "nbconvert_exporter": "python",
   "pygments_lexer": "ipython3",
   "version": "3.9.15"
  }
 },
 "nbformat": 4,
 "nbformat_minor": 2
}
