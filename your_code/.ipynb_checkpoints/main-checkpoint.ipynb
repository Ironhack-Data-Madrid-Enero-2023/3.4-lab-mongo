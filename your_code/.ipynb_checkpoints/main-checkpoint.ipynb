{
 "cells": [
  {
   "cell_type": "markdown",
   "metadata": {},
   "source": [
    "# Advanced Querying Mongo"
   ]
  },
  {
   "cell_type": "markdown",
   "metadata": {},
   "source": [
    "Importing libraries and setting up connection"
   ]
  },
  {
   "cell_type": "code",
   "execution_count": 1,
   "metadata": {},
   "outputs": [
    {
     "name": "stdout",
     "output_type": "stream",
     "text": [
      "Requirement already satisfied: pymongo in c:\\users\\mocus\\anaconda3\\lib\\site-packages (4.3.3)\n",
      "Requirement already satisfied: dnspython<3.0.0,>=1.16.0 in c:\\users\\mocus\\anaconda3\\lib\\site-packages (from pymongo) (2.3.0)\n",
      "Note: you may need to restart the kernel to use updated packages.\n"
     ]
    }
   ],
   "source": [
    "%pip install pymongo"
   ]
  },
  {
   "cell_type": "code",
   "execution_count": 2,
   "metadata": {},
   "outputs": [],
   "source": [
    "from pymongo import MongoClient\n",
    "client = MongoClient(\"mongodb://localhost:27017\")\n",
    "import pandas as pd\n",
    "import re\n"
   ]
  },
  {
   "cell_type": "markdown",
   "metadata": {},
   "source": [
    "### 1. All the companies whose name match 'Babelgum'. Retrieve only their `name` field."
   ]
  },
  {
   "cell_type": "code",
   "execution_count": 3,
   "metadata": {},
   "outputs": [],
   "source": [
    "client.list_database_names()\n",
    "\n",
    "db=client.companies\n"
   ]
  },
  {
   "cell_type": "code",
   "execution_count": 4,
   "metadata": {},
   "outputs": [],
   "source": [
    "colec=db.companies"
   ]
  },
  {
   "cell_type": "code",
   "execution_count": 5,
   "metadata": {},
   "outputs": [
    {
     "data": {
      "text/plain": [
       "[{'name': 'Babelgum'}]"
      ]
     },
     "execution_count": 5,
     "metadata": {},
     "output_type": "execute_result"
    }
   ],
   "source": [
    "\n",
    "query={'name': 'Babelgum'}\n",
    "select={'name':1, '_id' : 0}\n",
    "\n",
    "list(colec.find(query, select))"
   ]
  },
  {
   "cell_type": "markdown",
   "metadata": {},
   "source": [
    "list(colec.find({'name': 'Babelgum'}))\n"
   ]
  },
  {
   "cell_type": "markdown",
   "metadata": {},
   "source": [
    "### 2. All the companies that have more than 5000 employees. Limit the search to 20 companies and sort them by **number of employees**."
   ]
  },
  {
   "cell_type": "code",
   "execution_count": 6,
   "metadata": {},
   "outputs": [
    {
     "data": {
      "text/plain": [
       "[{'name': 'Facebook', 'number_of_employees': 5299},\n",
       " {'name': 'eBay', 'number_of_employees': 15000},\n",
       " {'name': 'Cisco', 'number_of_employees': 63000}]"
      ]
     },
     "execution_count": 6,
     "metadata": {},
     "output_type": "execute_result"
    }
   ],
   "source": [
    "\n",
    "query= {'number_of_employees' : {'$gt':5000}}\n",
    "filtro= {'name' : True, 'number_of_employees': True, '_id': 0}\n",
    "        \n",
    "list(colec.find(query, filtro).limit(3))"
   ]
  },
  {
   "cell_type": "markdown",
   "metadata": {},
   "source": [
    "### 3. All the companies founded between 2000 and 2005, both years included. Retrieve only the `name` and `founded_year` fields."
   ]
  },
  {
   "cell_type": "code",
   "execution_count": 7,
   "metadata": {},
   "outputs": [
    {
     "data": {
      "text/plain": [
       "[{'name': 'Wetpaint', 'founded_year': 2005},\n",
       " {'name': 'Zoho', 'founded_year': 2005},\n",
       " {'name': 'Digg', 'founded_year': 2004}]"
      ]
     },
     "execution_count": 7,
     "metadata": {},
     "output_type": "execute_result"
    }
   ],
   "source": [
    "query = { '$and' : [{'founded_year': {'$lte': 2005}},\n",
    "                     {'founded_year': {'$gte': 2000}}]}\n",
    "\n",
    "filtro = {'name' : True, 'founded_year' : True, '_id':0}\n",
    "\n",
    "list(colec.find(query, filtro).limit(3))\n"
   ]
  },
  {
   "cell_type": "markdown",
   "metadata": {},
   "source": [
    "### 4. All the companies that had a Valuation Amount of more than 100.000.000 and have been founded before 2010. Retrieve only the `name` and `ipo` fields."
   ]
  },
  {
   "cell_type": "code",
   "execution_count": 8,
   "metadata": {},
   "outputs": [
    {
     "data": {
      "text/plain": [
       "[{'name': 'Facebook',\n",
       "  'founded_year': 2004,\n",
       "  'ipo': {'valuation_amount': 104000000000}},\n",
       " {'name': 'Twitter',\n",
       "  'founded_year': 2006,\n",
       "  'ipo': {'valuation_amount': 18100000000}},\n",
       " {'name': 'Yelp',\n",
       "  'founded_year': 2004,\n",
       "  'ipo': {'valuation_amount': 1300000000}}]"
      ]
     },
     "execution_count": 8,
     "metadata": {},
     "output_type": "execute_result"
    }
   ],
   "source": [
    "\n",
    "query={'$and': [{'ipo.valuation_amount' : {'$gt':100000000}},\n",
    "       {'founded_year' : {'$lt' : 2010}}]}\n",
    "\n",
    "filtro = { 'name': True,'founded_year': True, 'ipo.valuation_amount': True, '_id':0}\n",
    "\n",
    "list(colec.find(query, filtro).limit(3))\n",
    "       \n",
    "     "
   ]
  },
  {
   "cell_type": "markdown",
   "metadata": {},
   "source": [
    "### 5. All the companies that have less than 1000 employees and have been founded before 2005. Order them by the number of employees and limit the search to 10 companies."
   ]
  },
  {
   "cell_type": "code",
   "execution_count": 9,
   "metadata": {},
   "outputs": [
    {
     "data": {
      "text/plain": [
       "[{'name': 'AdventNet', 'number_of_employees': 600, 'founded_year': 1996},\n",
       " {'name': 'Digg', 'number_of_employees': 60, 'founded_year': 2004},\n",
       " {'name': 'Fox Interactive Media',\n",
       "  'number_of_employees': 0,\n",
       "  'founded_year': 1979}]"
      ]
     },
     "execution_count": 9,
     "metadata": {},
     "output_type": "execute_result"
    }
   ],
   "source": [
    "\n",
    "query={'$and': [{'number_of_employees' : {'$lt':1000}},\n",
    "                {'founded_year' : {'$lt' : 2005}}]}\n",
    "                \n",
    "filtro= {'name' : True, 'number_of_employees': True, 'founded_year': True , '_id': 0}\n",
    "        \n",
    "list(colec.find(query, filtro).limit(3))"
   ]
  },
  {
   "cell_type": "markdown",
   "metadata": {},
   "source": [
    "### 6. All the companies that don't include the `partners` field."
   ]
  },
  {
   "cell_type": "code",
   "execution_count": 10,
   "metadata": {},
   "outputs": [
    {
     "data": {
      "text/plain": [
       "[{'name': 'Wetpaint', 'partners': []},\n",
       " {'name': 'AdventNet', 'partners': []},\n",
       " {'name': 'Zoho', 'partners': []}]"
      ]
     },
     "execution_count": 10,
     "metadata": {},
     "output_type": "execute_result"
    }
   ],
   "source": [
    "\n",
    "query = ({'partners' : { '$exists': 'False'}})\n",
    "\n",
    "filtro= {'name' : True,'partners' :True, '_id': 0}\n",
    "\n",
    "list(colec.find(query, filtro).limit(3))"
   ]
  },
  {
   "cell_type": "markdown",
   "metadata": {},
   "source": [
    "### 7. All the companies that have a null type of value on the `category_code` field."
   ]
  },
  {
   "cell_type": "code",
   "execution_count": 11,
   "metadata": {},
   "outputs": [
    {
     "data": {
      "text/plain": [
       "[{'name': 'Wetpaint', 'category_code': 'web'},\n",
       " {'name': 'AdventNet', 'category_code': 'enterprise'},\n",
       " {'name': 'Zoho', 'category_code': 'software'}]"
      ]
     },
     "execution_count": 11,
     "metadata": {},
     "output_type": "execute_result"
    }
   ],
   "source": [
    "query = ({'category_code' : { '$exists': 'False'}})\n",
    "\n",
    "filtro= {'name' : True,'category_code' :True, '_id': 0}\n",
    "\n",
    "list(colec.find(query, filtro).limit(3))"
   ]
  },
  {
   "cell_type": "markdown",
   "metadata": {},
   "source": [
    "### 8. All the companies that have at least 100 employees but less than 1000. Retrieve only the `name` and `number of employees` fields."
   ]
  },
  {
   "cell_type": "code",
   "execution_count": 12,
   "metadata": {},
   "outputs": [
    {
     "data": {
      "text/plain": [
       "[{'name': 'Redfin', 'number_of_employees': 100},\n",
       " {'name': 'Simply Hired', 'number_of_employees': 100},\n",
       " {'name': 'hi5', 'number_of_employees': 100}]"
      ]
     },
     "execution_count": 12,
     "metadata": {},
     "output_type": "execute_result"
    }
   ],
   "source": [
    "query={'$and': [{'number_of_employees': 100},\n",
    "                {'number_of_employees': {'$lt': 1000}}]}\n",
    "\n",
    "filtro = {'name' :True, 'number_of_employees': True, '_id': 0}\n",
    "\n",
    "list(colec.find(query, filtro).limit(3))"
   ]
  },
  {
   "cell_type": "markdown",
   "metadata": {},
   "source": [
    "### 9. Order all the companies by their IPO price in a descending order."
   ]
  },
  {
   "cell_type": "code",
   "execution_count": 13,
   "metadata": {},
   "outputs": [
    {
     "data": {
      "text/plain": [
       "[{'name': 'GREE', 'ipo': {'valuation_amount': 108960000000}},\n",
       " {'name': 'Facebook', 'ipo': {'valuation_amount': 104000000000}},\n",
       " {'name': 'Amazon', 'ipo': {'valuation_amount': 100000000000}},\n",
       " {'name': 'Twitter', 'ipo': {'valuation_amount': 18100000000}},\n",
       " {'name': 'Groupon', 'ipo': {'valuation_amount': 12800000000}}]"
      ]
     },
     "execution_count": 13,
     "metadata": {},
     "output_type": "execute_result"
    }
   ],
   "source": [
    "query = { 'ipo.valuation_amount':{ '$exists': True}}\n",
    "\n",
    "filtro = { 'name':True, 'ipo.valuation_amount': True ,'_id': 0}\n",
    "\n",
    "list(colec.find(query, filtro).sort('ipo.valuation_amount', -1).limit(5))"
   ]
  },
  {
   "cell_type": "markdown",
   "metadata": {},
   "source": [
    "### 10. Retrieve the 10 companies with more employees, order by the `number of employees`"
   ]
  },
  {
   "cell_type": "code",
   "execution_count": 14,
   "metadata": {},
   "outputs": [
    {
     "data": {
      "text/plain": [
       "[{'name': 'Telstra', 'number_of_employees': 39000},\n",
       " {'name': 'Bristol-Myers Squibb', 'number_of_employees': 35000},\n",
       " {'name': 'Nike', 'number_of_employees': 34300}]"
      ]
     },
     "execution_count": 14,
     "metadata": {},
     "output_type": "execute_result"
    }
   ],
   "source": [
    "query ={'$and': [{'number_of_employees': {'$lt': 50000}},\n",
    "                 {'number_of_employees': {'$gt': 50}}]}\n",
    "\n",
    "filtro = {'name': True, 'number_of_employees' : True, '_id' : 0}\n",
    "\n",
    "list(colec.find(query, filtro).sort('number_of_employees', -1).limit(3))"
   ]
  },
  {
   "cell_type": "markdown",
   "metadata": {},
   "source": [
    "### 11. All the companies founded on the second semester of the year. Limit your search to 1000 companies."
   ]
  },
  {
   "cell_type": "code",
   "execution_count": 25,
   "metadata": {},
   "outputs": [
    {
     "data": {
      "text/plain": [
       "[{'name': 'Wetpaint', 'founded_month': 10},\n",
       " {'name': 'Zoho', 'founded_month': 9},\n",
       " {'name': 'Digg', 'founded_month': 10}]"
      ]
     },
     "execution_count": 25,
     "metadata": {},
     "output_type": "execute_result"
    }
   ],
   "source": [
    "query = {'$and' : [{ 'founded_month': {'$lte': 12}},\n",
    "                   {'founded_month': {'$gt': 6}}]}\n",
    "\n",
    "filtro = {'name' : 1, 'founded_month': True, '_id' : 0}\n",
    "\n",
    "list(colec.find(query, filtro).limit(3))"
   ]
  },
  {
   "cell_type": "markdown",
   "metadata": {},
   "source": [
    "### 12. All the companies founded before 2000 that have an acquisition amount of more than 10.000.00"
   ]
  },
  {
   "cell_type": "code",
   "execution_count": 16,
   "metadata": {},
   "outputs": [
    {
     "data": {
      "text/plain": [
       "[{'name': 'Postini', 'acquisition': {'price_amount': 625000000}},\n",
       " {'name': 'SideStep', 'acquisition': {'price_amount': 180000000}},\n",
       " {'name': 'Recipezaar', 'acquisition': {'price_amount': 25000000}}]"
      ]
     },
     "execution_count": 16,
     "metadata": {},
     "output_type": "execute_result"
    }
   ],
   "source": [
    "query = {'$and' : [{ 'founded_year': {'$lt': 2000}},\n",
    "                   {'acquisition.price_amount': {'$gt': 1000000}}]}\n",
    "\n",
    "filtro = {'name' : True, 'acquisition.price_amount': True, '_id' : 0}\n",
    "\n",
    "list(colec.find(query, filtro).limit(3))\n",
    "          "
   ]
  },
  {
   "cell_type": "markdown",
   "metadata": {},
   "source": [
    "### 13. All the companies that have been acquired after 2010, order by the acquisition amount, and retrieve only their `name` and `acquisition` field."
   ]
  },
  {
   "cell_type": "code",
   "execution_count": 17,
   "metadata": {},
   "outputs": [
    {
     "data": {
      "text/plain": [
       "[{'name': 'T-Mobile',\n",
       "  'acquisition': {'price_amount': 39000000000,\n",
       "   'price_currency_code': 'USD',\n",
       "   'term_code': None,\n",
       "   'source_url': 'http://techcrunch.com/2011/03/20/in-the-race-for-more-spectrum-att-is-acquiring-t-mobile-for-39-billion/',\n",
       "   'source_description': 'In The Race For More Spectrum, AT&T Is Acquiring T-Mobile For $39 Billion',\n",
       "   'acquired_year': 2011,\n",
       "   'acquired_month': 3,\n",
       "   'acquired_day': 20,\n",
       "   'acquiring_company': {'name': 'AT&T', 'permalink': 'at-t'}}},\n",
       " {'name': 'Goodrich Corporation',\n",
       "  'acquisition': {'price_amount': 18400000000,\n",
       "   'price_currency_code': 'USD',\n",
       "   'term_code': None,\n",
       "   'source_url': 'http://www.masshightech.com/stories/2011/09/19/daily37-UTC-shells-out-184-billion-for-Goodrich.html',\n",
       "   'source_description': 'UTC shells out $18.4 billion for Goodrich',\n",
       "   'acquired_year': 2011,\n",
       "   'acquired_month': 9,\n",
       "   'acquired_day': 22,\n",
       "   'acquiring_company': {'name': 'United Technologies',\n",
       "    'permalink': 'united-technologies'}}},\n",
       " {'name': 'LSI',\n",
       "  'acquisition': {'price_amount': 6600000000,\n",
       "   'price_currency_code': 'USD',\n",
       "   'term_code': 'cash',\n",
       "   'source_url': 'http://dealbook.nytimes.com/2013/12/16/avago-to-buy-lsi-for-6-6-billion/?_r=0',\n",
       "   'source_description': 'Avago to Buy LSI for $6.6 Billion',\n",
       "   'acquired_year': 2013,\n",
       "   'acquired_month': 12,\n",
       "   'acquired_day': 16,\n",
       "   'acquiring_company': {'name': 'Avago Technologies',\n",
       "    'permalink': 'avago-technologies'}}}]"
      ]
     },
     "execution_count": 17,
     "metadata": {},
     "output_type": "execute_result"
    }
   ],
   "source": [
    "query = {'acquisition.acquired_year': { '$gt' : 2010}}\n",
    "\n",
    "filtro = {'name' : True, 'acquisition': True, '_id' : 0}\n",
    "          \n",
    "list(colec.find(query, filtro).sort('acquisition', -1).limit(3))        \n",
    "                    "
   ]
  },
  {
   "cell_type": "markdown",
   "metadata": {},
   "source": [
    "### 14. Order the companies by their `founded year`, retrieving only their `name` and `founded year`."
   ]
  },
  {
   "cell_type": "code",
   "execution_count": 18,
   "metadata": {},
   "outputs": [
    {
     "data": {
      "text/plain": [
       "[{'name': 'US Army', 'founded_year': 1800},\n",
       " {'name': 'SmallWorlds', 'founded_year': 1800},\n",
       " {'name': 'Alstrasoft', 'founded_year': 1800}]"
      ]
     },
     "execution_count": 18,
     "metadata": {},
     "output_type": "execute_result"
    }
   ],
   "source": [
    "query = {'founded_year': { '$ne' : None}}\n",
    "\n",
    "filtro = {'name' : True, 'founded_year' : True, '_id' : 0}\n",
    "\n",
    "list(colec.find(query, filtro).sort('founded_year').limit(3))"
   ]
  },
  {
   "cell_type": "markdown",
   "metadata": {},
   "source": [
    "### 15. All the companies that have been founded on the first seven days of the month, including the seventh. Sort them by their `acquisition price` in a descending order. Limit the search to 10 documents."
   ]
  },
  {
   "cell_type": "code",
   "execution_count": 19,
   "metadata": {},
   "outputs": [
    {
     "data": {
      "text/plain": [
       "[{'name': 'Netscape', 'acquisition': {'price_amount': 4200000000}},\n",
       " {'name': 'PayPal', 'acquisition': {'price_amount': 1500000000}},\n",
       " {'name': 'Zappos', 'acquisition': {'price_amount': 1200000000}}]"
      ]
     },
     "execution_count": 19,
     "metadata": {},
     "output_type": "execute_result"
    }
   ],
   "source": [
    "query = { 'founded_day': {'$lte' : 7}}\n",
    "                          \n",
    "filtro= { 'name' : True, 'acquisition.price_amount': True, '_id':0}\n",
    "                          \n",
    "list(colec.find(query,filtro).sort('acquisition.price_amount', -1).limit(3))                         "
   ]
  },
  {
   "cell_type": "markdown",
   "metadata": {},
   "source": [
    "### 16. All the companies on the 'web' `category` that have more than 4000 employees. Sort them by the amount of employees in ascending order."
   ]
  },
  {
   "cell_type": "code",
   "execution_count": 20,
   "metadata": {},
   "outputs": [
    {
     "data": {
      "text/plain": [
       "[{'name': 'Expedia', 'number_of_employees': 4400},\n",
       " {'name': 'AOL', 'number_of_employees': 8000},\n",
       " {'name': 'Webkinz', 'number_of_employees': 8657}]"
      ]
     },
     "execution_count": 20,
     "metadata": {},
     "output_type": "execute_result"
    }
   ],
   "source": [
    "query = {'$and' : [{'category_code' : 'web'},\n",
    "                   {'number_of_employees' : {'$gt' : 4000}}]}\n",
    "\n",
    "filtro= { 'name' : True, 'number_of_employees': True, '_id':0}\n",
    "\n",
    "list(colec.find(query, filtro).sort('number_of_employees', 1).limit(3))\n"
   ]
  },
  {
   "cell_type": "markdown",
   "metadata": {},
   "source": [
    "### 17. All the companies whose acquisition amount is more than 10.000.000, and currency is 'EUR'."
   ]
  },
  {
   "cell_type": "code",
   "execution_count": 21,
   "metadata": {},
   "outputs": [
    {
     "data": {
      "text/plain": [
       "[{'name': 'ZYB',\n",
       "  'acquisition': {'price_amount': 31500000, 'price_currency_code': 'EUR'}},\n",
       " {'name': 'Apertio',\n",
       "  'acquisition': {'price_amount': 140000000, 'price_currency_code': 'EUR'}},\n",
       " {'name': 'Greenfield Online',\n",
       "  'acquisition': {'price_amount': 40000000, 'price_currency_code': 'EUR'}}]"
      ]
     },
     "execution_count": 21,
     "metadata": {},
     "output_type": "execute_result"
    }
   ],
   "source": [
    "query = {'$and' : [{'acquisition.price_amount' : {'$gt' : 1e7}},\n",
    "                   {'acquisition.price_currency_code' : 'EUR'}]}\n",
    "\n",
    "filtro = {'name' : True, 'acquisition.price_amount' : True, 'acquisition.price_currency_code' : True, '_id': 0}\n",
    "\n",
    "list(colec.find(query, filtro).limit(3))"
   ]
  },
  {
   "cell_type": "markdown",
   "metadata": {},
   "source": [
    "### 18. All the companies that have been acquired on the first trimester of the year. Limit the search to 10 companies, and retrieve only their `name` and `acquisition` fields."
   ]
  },
  {
   "cell_type": "code",
   "execution_count": 22,
   "metadata": {},
   "outputs": [
    {
     "data": {
      "text/plain": [
       "[{'name': 'Kyte'}, {'name': 'NetRatings'}, {'name': 'blogTV'}]"
      ]
     },
     "execution_count": 22,
     "metadata": {},
     "output_type": "execute_result"
    }
   ],
   "source": [
    "query = {'acquisition.acquired_month' : {'$lte' : 3}}\n",
    "\n",
    "filtro = {'name' :True, 'Adquisition': True, '_id': 0}\n",
    "\n",
    "list(colec.find(query,filtro).limit(3))"
   ]
  },
  {
   "cell_type": "markdown",
   "metadata": {},
   "source": [
    "# Bonus\n",
    "### 19. All the companies that have been founded between 2000 and 2010, but have not been acquired before 2011."
   ]
  },
  {
   "cell_type": "code",
   "execution_count": 23,
   "metadata": {},
   "outputs": [],
   "source": [
    "# Your Code"
   ]
  },
  {
   "cell_type": "markdown",
   "metadata": {},
   "source": [
    "### 20. All the companies that have been 'deadpooled' after the third year."
   ]
  },
  {
   "cell_type": "code",
   "execution_count": 24,
   "metadata": {},
   "outputs": [],
   "source": [
    "# Your Code"
   ]
  }
 ],
 "metadata": {
  "kernelspec": {
   "display_name": "Python 3 (ipykernel)",
   "language": "python",
   "name": "python3"
  },
  "language_info": {
   "codemirror_mode": {
    "name": "ipython",
    "version": 3
   },
   "file_extension": ".py",
   "mimetype": "text/x-python",
   "name": "python",
   "nbconvert_exporter": "python",
   "pygments_lexer": "ipython3",
   "version": "3.9.13"
  }
 },
 "nbformat": 4,
 "nbformat_minor": 4
}
